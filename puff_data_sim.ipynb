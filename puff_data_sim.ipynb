{
 "cells": [
  {
   "cell_type": "code",
   "execution_count": 7,
   "id": "18aaf0d6",
   "metadata": {},
   "outputs": [
    {
     "name": "stdout",
     "output_type": "stream",
     "text": [
      "The autoreload extension is already loaded. To reload it, use:\n",
      "  %reload_ext autoreload\n"
     ]
    },
    {
     "ename": "ModuleNotFoundError",
     "evalue": "No module named 'parallel_plume_sim'",
     "output_type": "error",
     "traceback": [
      "\u001b[0;31m---------------------------------------------------------------------------\u001b[0m",
      "\u001b[0;31mModuleNotFoundError\u001b[0m                       Traceback (most recent call last)",
      "Cell \u001b[0;32mIn[7], line 10\u001b[0m\n\u001b[1;32m      8\u001b[0m \u001b[39mimport\u001b[39;00m \u001b[39mos\u001b[39;00m\n\u001b[1;32m      9\u001b[0m \u001b[39mimport\u001b[39;00m \u001b[39mmatplotlib\u001b[39;00m\u001b[39m.\u001b[39;00m\u001b[39mpyplot\u001b[39;00m \u001b[39mas\u001b[39;00m \u001b[39mplt\u001b[39;00m\n\u001b[0;32m---> 10\u001b[0m \u001b[39mimport\u001b[39;00m \u001b[39mparallel_plume_sim\u001b[39;00m \u001b[39mas\u001b[39;00m \u001b[39mpps\u001b[39;00m\n\u001b[1;32m     11\u001b[0m \u001b[39mimport\u001b[39;00m \u001b[39mmultiprocessing\u001b[39;00m\n\u001b[1;32m     12\u001b[0m \u001b[39mfrom\u001b[39;00m \u001b[39mscipy\u001b[39;00m\u001b[39m.\u001b[39;00m\u001b[39minterpolate\u001b[39;00m \u001b[39mimport\u001b[39;00m splprep, splev\n",
      "\u001b[0;31mModuleNotFoundError\u001b[0m: No module named 'parallel_plume_sim'"
     ]
    }
   ],
   "source": [
    "%load_ext autoreload\n",
    "%autoreload 2\n",
    "\n",
    "import pandas as pd\n",
    "import numpy as np\n",
    "import math\n",
    "import random\n",
    "import os\n",
    "import matplotlib.pyplot as plt\n",
    "import parallel_plume_sim as pps\n",
    "import multiprocessing\n",
    "from scipy.interpolate import splprep, splev\n",
    "\n",
    "##animating\n",
    "import matplotlib.animation as animation\n",
    "from matplotlib.animation import FuncAnimation\n",
    "import plotly.graph_objects as go\n",
    "import plotly.io as py\n",
    "\n",
    "## training\n",
    "import torch\n",
    "import torch.nn as nn\n",
    "import pandas as pd\n",
    "from sklearn.model_selection import train_test_split\n",
    "from sklearn.preprocessing import MinMaxScaler"
   ]
  },
  {
   "cell_type": "code",
   "execution_count": null,
   "id": "b785b421",
   "metadata": {},
   "outputs": [],
   "source": [
    "def scale_data(data):\n",
    "    min_val = np.min(data)\n",
    "    max_val = np.max(data)\n",
    "    return (((data - min_val) / (max_val - min_val)) * 10)"
   ]
  },
  {
   "cell_type": "code",
   "execution_count": 4,
   "id": "e6b46dbc",
   "metadata": {},
   "outputs": [
    {
     "name": "stdout",
     "output_type": "stream",
     "text": [
      "Creating directory:  /home/flybot/DataAnalysis/data/puff_data/fromToha/puff_data_20230419_153117\n"
     ]
    }
   ],
   "source": [
    "puff_data_filename = '~/DataAnalysis/data/puff_data/fromToha/puff_data_20230419_153117.pickle'\n",
    "\n",
    "# how many seconds to include per chunk?\n",
    "max_time = 2\n",
    "\n",
    "# maximum distance in x and y to consider puffs before ignoring them?\n",
    "min_x = -5\n",
    "max_x = 20\n",
    "min_y = -5\n",
    "max_y = 20\n",
    "\n",
    "pps.read_puff_data.split_puff_data_into_smaller_dataframes_and_cull_old_puffs(puff_data_filename, \n",
    "                                                                              max_time, \n",
    "                                                                              min_x, max_x, \n",
    "                                                                              min_y, max_y)"
   ]
  },
  {
   "cell_type": "code",
   "execution_count": 5,
   "id": "ea2c8497",
   "metadata": {},
   "outputs": [],
   "source": [
    "# This should match your directory name from above -- you need to change this\n",
    "dirname = '/home/flybot/DataAnalysis/data/puff_data/fromToha/puff_data_20230419_153117'\n",
    "# Class for reading puff data\n",
    "puff_reader = pps.read_puff_data.PuffReader(dirname)"
   ]
  },
  {
   "cell_type": "markdown",
   "id": "37428061",
   "metadata": {},
   "source": [
    "### Create a Trajectory"
   ]
  },
  {
   "cell_type": "code",
   "execution_count": 6,
   "id": "d9151fad",
   "metadata": {},
   "outputs": [],
   "source": [
    "# n_points = 200 * 60  # 200Hz for 1 minute, change as needed\n",
    "# step_size = 0.05  # meters\n",
    "\n",
    "# steps = np.random.uniform(low=-step_size, high=step_size, size=(n_points, 2))\n",
    "# points = np.cumsum(steps, axis=0)\n",
    "\n",
    "# # Ensure the last point is (0,0) by shifting all points by the last point\n",
    "# points -= points[-1]\n",
    "\n",
    "# # Scale and shift the points to the desired range\n",
    "# points[:, 0] = ((points[:, 0] - np.min(points[:, 0])) / (np.max(points[:, 0]) - np.min(points[:, 0])) * 5) + 5\n",
    "# points[:, 1] = ((points[:, 1] - np.min(points[:, 1])) / (np.max(points[:, 1]) - np.min(points[:, 1])) * 13) + 2\n",
    "\n",
    "# x = points[:,0]\n",
    "# y = points[:,1]\n",
    "# time = np.linspace(1,149,len(x))\n",
    "# time = np.round(time, decimals=2)\n"
   ]
  },
  {
   "cell_type": "code",
   "execution_count": 7,
   "id": "4fc02d2f",
   "metadata": {},
   "outputs": [],
   "source": [
    "# # Create a 10x10 grid\n",
    "# f, ax = plt.subplots(figsize=(5,4))\n",
    "# ax.grid(False)\n",
    "# ax.scatter(x,y, s=1)\n",
    "# # f.savefig('traject.jpg')"
   ]
  },
  {
   "cell_type": "markdown",
   "id": "30aa47bf",
   "metadata": {},
   "source": [
    "### Generate Trajectories and Collect Odor Encounters"
   ]
  },
  {
   "cell_type": "code",
   "execution_count": 14,
   "id": "c09100dc",
   "metadata": {},
   "outputs": [],
   "source": [
    "def process_position(position):\n",
    "    time, x, y = position\n",
    "    concentration, wind_x, wind_y = puff_reader.get_odor_concentration_at_t_and_position(time, x, y)\n",
    "    return concentration, wind_x, wind_y\n",
    "\n",
    "\n",
    "def generate_trajectory(x_limits, y_limits, n_waypoints, noise_scale, n_eval_points):\n",
    "    # Generate waypoints along a diagonal line, then add some random noise\n",
    "    waypoints = np.zeros((n_waypoints, 2))\n",
    "    waypoints[:, 0] = np.linspace(x_limits[0], x_limits[1], n_waypoints)\n",
    "    waypoints[:, 1] = np.linspace(y_limits[0], y_limits[1], n_waypoints)\n",
    "    waypoints += noise_scale * np.random.randn(n_waypoints, 2)  # Add noise\n",
    "\n",
    "    # Generate B-Spline\n",
    "    tck, u = splprep(waypoints.T, s=0)\n",
    "    unew = np.linspace(0, 1.0, n_eval_points)\n",
    "    out = splev(unew, tck)\n",
    "\n",
    "    return out[0], out[1]  # Returns x and y coordinates of the trajectory\n",
    "\n",
    "\n",
    "\n",
    "def process_and_save_data(index,foldername):\n",
    "\n",
    "    n_waypoints=math.floor(random.randint(90,200) / 10) * 10 #multiple of 10\n",
    "    n_eval_points=math.floor(random.randint(1000,2000) / 50) * 50 #multiple of 50\n",
    "\n",
    "    x, y = generate_trajectory((0,20),(0,20),n_waypoints,2.5,n_eval_points)\n",
    "    time = np.linspace(1,149,len(x))\n",
    "    # plt.plot(x,y)\n",
    "\n",
    "    with multiprocessing.Pool() as pool:\n",
    "        results = pool.map(process_position, [(time[i], x[i], y[i]) for i in range(len(x))])\n",
    "\n",
    "    c = [result[0] for result in results]\n",
    "    wx = [result[1] for result in results]\n",
    "    wy = [result[2] for result in results]\n",
    "\n",
    "    df_new = pd.DataFrame()\n",
    "    df_new['odor'] = c\n",
    "    df_new['windx'] = wx\n",
    "    df_new['windy'] = wy\n",
    "    df_new['x'] = x\n",
    "    df_new['y'] = y\n",
    "    # df_new['time']=time\n",
    "\n",
    "    filename = '~/DataAnalysis/data/generated_data_plume_sim/'+str(foldername)+'/diag{}.h5'.format(index)\n",
    "    df_new.to_hdf(filename, key='data', mode='w')\n",
    "\n",
    "\n",
    "for i in range(1, 2):\n",
    "    process_and_save_data(i,'test_2')\n"
   ]
  },
  {
   "cell_type": "code",
   "execution_count": 18,
   "id": "551d6faa",
   "metadata": {},
   "outputs": [],
   "source": [
    "# Specify the directory you're working from\n",
    "folder_path = '/home/flybot/DataAnalysis/data/generated_data_plume_sim/train/'\n",
    "\n",
    "# Get a list of all the .h5 files in the directory\n",
    "files = [f for f in os.listdir(folder_path) if f.endswith('.h5')]\n",
    "\n",
    "# Initialize an empty dataframe\n",
    "all_data = pd.DataFrame()\n",
    "\n",
    "# Loop through the files and read each one into a dataframe\n",
    "for file in files:\n",
    "    file_path = os.path.join(folder_path, file)\n",
    "    df = pd.read_hdf(file_path)\n",
    "    all_data = pd.concat([all_data, df])"
   ]
  },
  {
   "cell_type": "code",
   "execution_count": 19,
   "id": "bd4d2efc",
   "metadata": {},
   "outputs": [
    {
     "data": {
      "text/plain": [
       "[<matplotlib.lines.Line2D at 0x7f0aaab5e620>]"
      ]
     },
     "execution_count": 19,
     "metadata": {},
     "output_type": "execute_result"
    },
    {
     "data": {
      "image/png": "[encoded data removed]",
      "text/plain": [
       "<Figure size 640x480 with 1 Axes>"
      ]
     },
     "metadata": {},
     "output_type": "display_data"
    }
   ],
   "source": [
    "all_data=all_data.reset_index(drop=True)\n",
    "df=pd.DataFrame()\n",
    "df = all_data.copy()\n",
    "plt.plot(df.odor)"
   ]
  },
  {
   "cell_type": "code",
   "execution_count": 12,
   "id": "904b754c",
   "metadata": {},
   "outputs": [
    {
     "data": {
      "text/plain": [
       "[<matplotlib.lines.Line2D at 0x7f0aab461930>]"
      ]
     },
     "execution_count": 12,
     "metadata": {},
     "output_type": "execute_result"
    },
    {
     "data": {
      "image/png": "[encoded data removed]",
      "text/plain": [
       "<Figure size 640x480 with 1 Axes>"
      ]
     },
     "metadata": {},
     "output_type": "display_data"
    }
   ],
   "source": [
    "df['scaled_odor']=scale_data(df.odor)\n",
    "plt.plot(df.scaled_odor)"
   ]
  },
  {
   "cell_type": "code",
   "execution_count": 13,
   "id": "e393af94",
   "metadata": {},
   "outputs": [],
   "source": [
    "df.to_hdf('~/DataAnalysis/data/generated_data_plume_sim/train_2/train.h5', key='data', mode='w')"
   ]
  },
  {
   "cell_type": "code",
   "execution_count": 17,
   "id": "7fc22dfe",
   "metadata": {},
   "outputs": [],
   "source": [
    "# desertdf=pd.read_hdf('~/DataAnalysis/data/desert/WindyPredictions.h5')\n",
    "# df = desertdf[:1200]"
   ]
  },
  {
   "cell_type": "code",
   "execution_count": 12,
   "id": "24617077",
   "metadata": {},
   "outputs": [],
   "source": [
    "# Preprocess the data\n",
    "# features = ['mc_mean', 'ma_max', 'ma_std_dev', 'wd_std_dev']  # 'odor' is not included here\n",
    "# target = ['distance']\n",
    "\n",
    "features = ['windx', 'windy', 'x', 'y']  # 'odor' is not included here\n",
    "target = ['scaled_odor']\n",
    "\n",
    "\n",
    "scaler = MinMaxScaler()\n",
    "df[features] = scaler.fit_transform(df[features])\n",
    "\n",
    "# Split the data\n",
    "train_df, test_df = train_test_split(df, test_size=0.2, random_state=42)\n",
    "\n",
    "# Convert data to PyTorch tensors\n",
    "train_features = torch.Tensor(train_df[features].values)\n",
    "train_targets = torch.Tensor(train_df[target].values)\n",
    "\n",
    "test_features = torch.Tensor(test_df[features].values)\n",
    "test_targets = torch.Tensor(test_df[target].values)\n",
    "\n",
    "# Reshape to (batch_size, seq_length, n_features)\n",
    "train_features = train_features.view(-1, 1, 4)  # We now have 4 features\n",
    "test_features = test_features.view(-1, 1, 4)\n",
    "\n"
   ]
  },
  {
   "cell_type": "markdown",
   "id": "7c3fefe0",
   "metadata": {},
   "source": [
    "### RNN Test"
   ]
  },
  {
   "cell_type": "code",
   "execution_count": 13,
   "id": "4a7fdc0d",
   "metadata": {},
   "outputs": [],
   "source": [
    "\n",
    "# # Define the RNN model\n",
    "# class RNN(nn.Module):\n",
    "#     def __init__(self, input_size, hidden_size, output_size):\n",
    "#         super(RNN, self).__init__()\n",
    "#         self.hidden_size = hidden_size\n",
    "#         self.rnn = nn.RNN(input_size, hidden_size, batch_first=True)\n",
    "#         self.fc = nn.Linear(hidden_size, output_size)\n",
    "\n",
    "#     def forward(self, x):\n",
    "#         h0 = torch.zeros(1, x.size(0), self.hidden_size).to(x.device)  # Initial hidden state\n",
    "#         out, _ = self.rnn(x, h0)  # RNN output and last hidden state\n",
    "#         out = self.fc(out[:, -1, :])  # Pass RNN output through fully-connected layer\n",
    "#         return out\n",
    "\n",
    "# # Initialize the model, loss function and optimizer\n",
    "# model = RNN(input_size=4, hidden_size=32, output_size=1)  # We now have 4 input features\n",
    "# criterion = nn.MSELoss()\n",
    "# optimizer = torch.optim.Adam(model.parameters(), lr=0.01)\n",
    "\n",
    "# # Train the model\n",
    "# num_epochs = 100\n",
    "# for epoch in range(num_epochs):\n",
    "#     model.train()\n",
    "#     outputs = model(train_features)\n",
    "#     loss = criterion(outputs, train_targets)\n",
    "\n",
    "#     optimizer.zero_grad()\n",
    "#     loss.backward()\n",
    "#     optimizer.step()\n",
    "\n",
    "#     if (epoch+1) % 10 == 0:\n",
    "#         print(f'Epoch {epoch+1}/{num_epochs}, Loss: {loss.item()}')\n",
    "\n",
    "# # Test the model\n",
    "# model.eval()\n",
    "# with torch.no_grad():\n",
    "#     predictions = model(test_features)\n",
    "#     test_loss = criterion(predictions, test_targets)\n",
    "# print(f'Test Loss: {test_loss.item()}')"
   ]
  },
  {
   "cell_type": "markdown",
   "id": "1c42a9e0",
   "metadata": {},
   "source": [
    "### LSTM Test"
   ]
  },
  {
   "cell_type": "code",
   "execution_count": 14,
   "id": "bbc89049",
   "metadata": {},
   "outputs": [
    {
     "name": "stdout",
     "output_type": "stream",
     "text": [
      "cuda\n",
      "Epoch 10/500, Loss: 0.05927552282810211\n",
      "Epoch 20/500, Loss: 0.05938640236854553\n",
      "Epoch 30/500, Loss: 0.059247732162475586\n",
      "Epoch 40/500, Loss: 0.05923924222588539\n",
      "Epoch 50/500, Loss: 0.05921110510826111\n",
      "Epoch 60/500, Loss: 0.059200212359428406\n",
      "Epoch 70/500, Loss: 0.059194792062044144\n",
      "Epoch 80/500, Loss: 0.05918010696768761\n",
      "Epoch 90/500, Loss: 0.05917700380086899\n",
      "Epoch 100/500, Loss: 0.059166569262742996\n",
      "Epoch 110/500, Loss: 0.05914605036377907\n",
      "Epoch 120/500, Loss: 0.05913041532039642\n",
      "Epoch 130/500, Loss: 0.059083253145217896\n",
      "Epoch 140/500, Loss: 0.0590624138712883\n",
      "Epoch 150/500, Loss: 0.059015508741140366\n",
      "Epoch 160/500, Loss: 0.05898323282599449\n",
      "Epoch 170/500, Loss: 0.058891069144010544\n",
      "Epoch 180/500, Loss: 0.058665163815021515\n",
      "Epoch 190/500, Loss: 0.058549914509058\n",
      "Epoch 200/500, Loss: 0.058191895484924316\n",
      "Epoch 210/500, Loss: 0.058545202016830444\n",
      "Epoch 220/500, Loss: 0.05711094290018082\n",
      "Epoch 230/500, Loss: 0.05671846121549606\n",
      "Epoch 240/500, Loss: 0.057046595960855484\n",
      "Epoch 250/500, Loss: 0.056569091975688934\n",
      "Epoch 260/500, Loss: 0.05560622736811638\n",
      "Epoch 270/500, Loss: 0.055374547839164734\n",
      "Epoch 280/500, Loss: 0.05548740550875664\n",
      "Epoch 290/500, Loss: 0.05615983158349991\n",
      "Epoch 300/500, Loss: 0.05577009543776512\n",
      "Epoch 310/500, Loss: 0.05535295605659485\n",
      "Epoch 320/500, Loss: 0.055239561945199966\n",
      "Epoch 330/500, Loss: 0.055625371634960175\n",
      "Epoch 340/500, Loss: 0.05560697242617607\n",
      "Epoch 350/500, Loss: 0.05476349964737892\n",
      "Epoch 360/500, Loss: 0.054618317633867264\n",
      "Epoch 370/500, Loss: 0.05432722717523575\n",
      "Epoch 380/500, Loss: 0.054951924830675125\n",
      "Epoch 390/500, Loss: 0.054824043065309525\n",
      "Epoch 400/500, Loss: 0.054212912917137146\n",
      "Epoch 410/500, Loss: 0.054133765399456024\n",
      "Epoch 420/500, Loss: 0.05599929019808769\n",
      "Epoch 430/500, Loss: 0.05366675555706024\n",
      "Epoch 440/500, Loss: 0.0559927336871624\n",
      "Epoch 450/500, Loss: 0.054653581231832504\n",
      "Epoch 460/500, Loss: 0.053751103579998016\n",
      "Epoch 470/500, Loss: 0.05407370626926422\n",
      "Epoch 480/500, Loss: 0.05486427620053291\n",
      "Epoch 490/500, Loss: 0.05387648195028305\n",
      "Epoch 500/500, Loss: 0.0551614873111248\n",
      "Test Loss: 0.05951005220413208\n"
     ]
    }
   ],
   "source": [
    "# Check if a GPU is available and if not, use a CPU\n",
    "device = torch.device('cuda' if torch.cuda.is_available() else 'cpu')\n",
    "print(device)\n",
    "# Define the LSTM model\n",
    "class LSTM(nn.Module):\n",
    "    def __init__(self, input_size, hidden_size, output_size, num_layers, dropout):\n",
    "        super(LSTM, self).__init__()\n",
    "        self.hidden_size = hidden_size\n",
    "        self.num_layers = num_layers\n",
    "        self.lstm = nn.LSTM(input_size, hidden_size, num_layers, batch_first=True, dropout=dropout)\n",
    "        self.fc = nn.Linear(hidden_size, output_size)\n",
    "\n",
    "    def forward(self, x):\n",
    "        h0 = torch.zeros(self.num_layers, x.size(0), self.hidden_size).to(device)  # Initial hidden state\n",
    "        c0 = torch.zeros(self.num_layers, x.size(0), self.hidden_size).to(device)  # Initial cell state\n",
    "        out, _ = self.lstm(x, (h0, c0))  # LSTM output and last hidden state\n",
    "        out = self.fc(out[:, -1, :])  # Pass LSTM output through fully-connected layer\n",
    "        return out\n",
    "\n",
    "# Move model to the device\n",
    "model = LSTM(input_size=4, hidden_size=128, output_size=1, num_layers=3, dropout=0.5).to(device)\n",
    "\n",
    "# Move tensors to the device\n",
    "train_features = train_features.to(device)\n",
    "train_targets = train_targets.to(device)\n",
    "test_features = test_features.to(device)\n",
    "test_targets = test_targets.to(device)\n",
    "\n",
    "criterion = nn.MSELoss()\n",
    "optimizer = torch.optim.Adam(model.parameters(), lr=0.01)  # Lower learning rate\n",
    "\n",
    "# Train the model\n",
    "num_epochs = 500  # More epochs\n",
    "for epoch in range(num_epochs):\n",
    "    model.train()\n",
    "    outputs = model(train_features)\n",
    "    loss = criterion(outputs, train_targets)\n",
    "\n",
    "    optimizer.zero_grad()\n",
    "    loss.backward()\n",
    "    optimizer.step()\n",
    "\n",
    "    if (epoch+1) % 10 == 0:\n",
    "        print(f'Epoch {epoch+1}/{num_epochs}, Loss: {loss.item()}')\n",
    "\n",
    "# Test the model\n",
    "model.eval()\n",
    "with torch.no_grad():\n",
    "    predictions = model(test_features)\n",
    "    test_loss = criterion(predictions, test_targets)\n",
    "print(f'Test Loss: {test_loss.item()}')\n"
   ]
  },
  {
   "cell_type": "markdown",
   "id": "b1d79a41",
   "metadata": {},
   "source": [
    "### GRU Test"
   ]
  },
  {
   "cell_type": "code",
   "execution_count": 50,
   "id": "70e9b495",
   "metadata": {},
   "outputs": [],
   "source": [
    "# # Define the GRU model\n",
    "# class GRU(nn.Module):\n",
    "#     def __init__(self, input_size, hidden_size, output_size, num_layers, dropout):\n",
    "#         super(GRU, self).__init__()\n",
    "#         self.hidden_size = hidden_size\n",
    "#         self.num_layers = num_layers\n",
    "#         self.gru = nn.GRU(input_size, hidden_size, num_layers, batch_first=True, dropout=dropout)\n",
    "#         self.fc = nn.Linear(hidden_size, output_size)\n",
    "\n",
    "#     def forward(self, x):\n",
    "#         h0 = torch.zeros(self.num_layers, x.size(0), self.hidden_size).to(x.device)  # Initial hidden state\n",
    "#         out, _ = self.gru(x, h0)  # GRU output and last hidden state\n",
    "#         out = self.fc(out[:, -1, :])  # Pass GRU output through fully-connected layer\n",
    "#         return out\n",
    "\n",
    "# # Check if CUDA is available and set the device accordingly\n",
    "# device = torch.device('cuda' if torch.cuda.is_available() else 'cpu')\n",
    "\n",
    "# model = GRU(input_size=4, hidden_size=256, \n",
    "#             output_size=1, num_layers=3, dropout=0.5).to(device)  # Increased complexity\n",
    "# criterion = nn.MSELoss()\n",
    "# optimizer = torch.optim.Adam(model.parameters(), lr=0.001)  # Lower learning rate\n",
    "\n",
    "# # Move the data to the device\n",
    "# train_features = train_features.to(device)\n",
    "# train_targets = train_targets.to(device)\n",
    "# test_features = test_features.to(device)\n",
    "# test_targets = test_targets.to(device)\n",
    "\n",
    "# # Train the model\n",
    "# num_epochs = 200  # More epochs\n",
    "# for epoch in range(num_epochs):\n",
    "#     model.train()\n",
    "#     outputs = model(train_features)\n",
    "#     loss = criterion(outputs, train_targets)\n",
    "\n",
    "#     optimizer.zero_grad()\n",
    "#     loss.backward()\n",
    "#     optimizer.step()\n",
    "\n",
    "#     if (epoch+1) % 20 == 0:\n",
    "#         print(f'Epoch {epoch+1}/{num_epochs}, Loss: {loss.item()}')\n",
    "\n",
    "# # Test the model\n",
    "# model.eval()\n",
    "# with torch.no_grad():\n",
    "#     predictions = model(test_features)\n",
    "#     test_loss = criterion(predictions, test_targets)\n",
    "# print(f'Test Loss: {test_loss.item()}')\n"
   ]
  },
  {
   "cell_type": "code",
   "execution_count": 15,
   "id": "e8452e15",
   "metadata": {},
   "outputs": [],
   "source": [
    "test = pd.read_hdf('/home/flybot/DataAnalysis/data/generated_data_plume_sim/test/diag1.h5')\n",
    "# test = desertdf[1200:]\n",
    "# test = test.reset_index(drop=True)"
   ]
  },
  {
   "cell_type": "code",
   "execution_count": 16,
   "id": "efe244d9",
   "metadata": {},
   "outputs": [],
   "source": [
    "# Assume new_data is a DataFrame with the same structure as your training data\n",
    "new_df = pd.DataFrame()\n",
    "new_df['windx']=test.windx\n",
    "new_df['windy']=test.windy\n",
    "new_df['x']=test.x\n",
    "new_df['y']=test.y"
   ]
  },
  {
   "cell_type": "code",
   "execution_count": 17,
   "id": "c2abd8b2",
   "metadata": {},
   "outputs": [],
   "source": [
    "# new_df=test.copy()"
   ]
  },
  {
   "cell_type": "code",
   "execution_count": 18,
   "id": "db0eaa1e",
   "metadata": {},
   "outputs": [],
   "source": [
    "# Now, let's predict the 'odor' for the new data\n",
    "# new_features = ['mc_mean', 'ma_max', 'ma_std_dev', 'wd_std_dev'] # 'odor' is not included here\n",
    "new_features = ['windx', 'windy', 'x', 'y'] # 'odor' is not included here\n",
    "new_df[new_features] = scaler.transform(new_df[new_features])  # Use the same scaler object as before\n",
    "new_features_tensor = torch.Tensor(new_df[new_features].values).to(device)  # Move tensor to the same device as the model\n",
    "new_features_tensor = new_features_tensor.view(-1, 1, 4)  # We now have 4 features\n",
    "\n",
    "# Generate predictions\n",
    "model.eval()\n",
    "with torch.no_grad():\n",
    "    new_predictions = model(new_features_tensor)\n"
   ]
  },
  {
   "cell_type": "code",
   "execution_count": 19,
   "id": "837289f3",
   "metadata": {},
   "outputs": [],
   "source": [
    "# plt.plot(np.linspace(0,149,len(test)), test_odor)\n",
    "# plt.xlabel('time,s')\n",
    "# plt.ylabel('unscaled_odor_actual, v')\n",
    "# plt.tight_layout()\n",
    "# plt.xlim(145,150)"
   ]
  },
  {
   "cell_type": "code",
   "execution_count": 22,
   "id": "6b05d473",
   "metadata": {},
   "outputs": [
    {
     "data": {
      "text/plain": [
       "<matplotlib.legend.Legend at 0x7f5118f8dde0>"
      ]
     },
     "execution_count": 22,
     "metadata": {},
     "output_type": "execute_result"
    },
    {
     "data": {
      "image/png": "[encoded data removed]",
      "text/plain": [
       "<Figure size 640x480 with 1 Axes>"
      ]
     },
     "metadata": {},
     "output_type": "display_data"
    }
   ],
   "source": [
    "plt.plot(np.linspace(0,150,len(test)),test.odor, label='actual ,m')\n",
    "plt.plot(np.linspace(0,150,len(test)),new_predictions.cpu().numpy() , label='predictions')\n",
    "plt.xlabel('time,s')\n",
    "plt.ylabel('odor, v')\n",
    "plt.legend()\n",
    "# plt.savefig('../pred_.jpg')"
   ]
  },
  {
   "cell_type": "code",
   "execution_count": 125,
   "id": "4ca8ccce",
   "metadata": {},
   "outputs": [
    {
     "data": {
      "text/plain": [
       "<matplotlib.legend.Legend at 0x7f84989d6f20>"
      ]
     },
     "execution_count": 125,
     "metadata": {},
     "output_type": "execute_result"
    },
    {
     "data": {
      "image/png": "[encoded data removed]",
      "text/plain": [
       "<Figure size 640x480 with 1 Axes>"
      ]
     },
     "metadata": {},
     "output_type": "display_data"
    }
   ],
   "source": [
    "plt.plot(np.linspace(0,100,len(test)),new_predictions.cpu().numpy()*10 , label='scaled predictions')\n",
    "plt.plot(np.linspace(0,100,len(test)),test_odor, label='scaled_odor_actual ,v')\n",
    "plt.xlabel('time,s')\n",
    "plt.ylabel('scaled_odor, v')\n",
    "plt.legend()"
   ]
  },
  {
   "cell_type": "code",
   "execution_count": 134,
   "id": "b01d8d40",
   "metadata": {},
   "outputs": [],
   "source": [
    "new_ = pd.DataFrame()\n",
    "new_['actual_odor'] = test.odor\n",
    "new_['predicted_odor']=new_predictions.cpu().numpy()"
   ]
  },
  {
   "cell_type": "code",
   "execution_count": 137,
   "id": "15388c33",
   "metadata": {},
   "outputs": [],
   "source": [
    "new_.to_hdf('~/DataAnalysis/data/act.h5', key='data', mode='w')"
   ]
  },
  {
   "cell_type": "code",
   "execution_count": null,
   "id": "95b2326b",
   "metadata": {},
   "outputs": [],
   "source": [
    "# step_size = 5\n",
    "\n",
    "# fig = go.Figure(\n",
    "#     data=[go.Scatter(x=x[:1], y=y[:1], mode='lines')],\n",
    "#     layout=go.Layout(\n",
    "#         xaxis=dict(range=[-5,20], autorange=False),\n",
    "#         yaxis=dict(range=[-5,20], autorange=False),\n",
    "#         title=\"Animation of evolving points\",\n",
    "#         shapes=[\n",
    "#             go.layout.Shape(\n",
    "#                 type=\"circle\",\n",
    "#                 xref=\"x\", yref=\"y\",\n",
    "#                 x0=-0.5, y0=-0.5, x1=0.5, y1=0.5,\n",
    "#                 line_color=\"Red\",\n",
    "#                 fillcolor=\"Red\"\n",
    "#             )\n",
    "#         ],\n",
    "#         updatemenus=[dict(\n",
    "#             type=\"buttons\",\n",
    "#             buttons=[dict(label=\"Play\",\n",
    "#                           method=\"animate\",\n",
    "#                           args=[None, {\"frame\": {\"duration\": 100, \"redraw\": False}}])])],\n",
    "#         transition = {\"duration\": 100}\n",
    "#     ),\n",
    "#     frames=[go.Frame(\n",
    "#         data=[go.Scatter(\n",
    "#             x=x[:k+1:step_size],\n",
    "#             y=y[:k+1:step_size],\n",
    "#             mode='lines')]\n",
    "#     )\n",
    "#     for k in range(1, len(x), step_size)]\n",
    "# )\n",
    "\n",
    "# # # Ensure that the aspect ratio is 1:1\n",
    "# # fig.update_yaxes(\n",
    "# #     scaleanchor = \"x\",\n",
    "# #     scaleratio = 1,\n",
    "# # )\n",
    "# # fig.update_xaxes(\n",
    "# #     scaleanchor = \"y\",\n",
    "# #     scaleratio = 1,\n",
    "# # )\n",
    "\n",
    "# fig.show()\n",
    "\n"
   ]
  }
 ],
 "metadata": {
  "kernelspec": {
   "display_name": "an-vscode",
   "language": "python",
   "name": "pyan"
  },
  "language_info": {
   "codemirror_mode": {
    "name": "ipython",
    "version": 3
   },
   "file_extension": ".py",
   "mimetype": "text/x-python",
   "name": "python",
   "nbconvert_exporter": "python",
   "pygments_lexer": "ipython3",
   "version": "3.10.12"
  }
 },
 "nbformat": 4,
 "nbformat_minor": 5
}
