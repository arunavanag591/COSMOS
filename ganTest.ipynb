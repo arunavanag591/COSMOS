{
 "cells": [
  {
   "cell_type": "code",
   "execution_count": 23,
   "id": "c20de7b1",
   "metadata": {},
   "outputs": [],
   "source": [
    "import torch\n",
    "import torch.nn as nn\n",
    "import torch.optim as optim\n",
    "from torch.utils.data import Dataset, DataLoader\n",
    "import numpy as np\n",
    "import pandas as pd\n",
    "\n",
    "import matplotlib.pyplot as plt"
   ]
  },
  {
   "cell_type": "code",
   "execution_count": 9,
   "id": "1163e50c",
   "metadata": {},
   "outputs": [],
   "source": [
    "# Define the generator model\n",
    "class Generator(nn.Module):\n",
    "    def __init__(self, input_size, output_size, hidden_size=128):\n",
    "        super(Generator, self).__init__()\n",
    "        self.model = nn.Sequential(\n",
    "            nn.Linear(input_size, hidden_size),\n",
    "            nn.ReLU(),\n",
    "            nn.Linear(hidden_size, hidden_size),\n",
    "            nn.ReLU(),\n",
    "            nn.Linear(hidden_size, output_size),\n",
    "        )\n",
    "\n",
    "    def forward(self, x):\n",
    "        return self.model(x)\n",
    "\n",
    "# Define the discriminator model\n",
    "class Discriminator(nn.Module):\n",
    "    def __init__(self, input_size, hidden_size=128):\n",
    "        super(Discriminator, self).__init__()\n",
    "        self.model = nn.Sequential(\n",
    "            nn.Linear(input_size, hidden_size),\n",
    "            nn.ReLU(),\n",
    "            nn.Linear(hidden_size, hidden_size),\n",
    "            nn.ReLU(),\n",
    "            nn.Linear(hidden_size, 1),\n",
    "            nn.Sigmoid(),\n",
    "        )\n",
    "\n",
    "    def forward(self, x):\n",
    "        return self.model(x)\n",
    "\n",
    "# Define the GAN model\n",
    "class GAN(nn.Module):\n",
    "    def __init__(self, input_size_g, output_size_g, input_size_d, hidden_size_d=128):\n",
    "        super(GAN, self).__init__()\n",
    "        self.generator = Generator(input_size_g, output_size_g)\n",
    "        self.discriminator = Discriminator(input_size_d, hidden_size_d)\n",
    "\n",
    "    def forward(self, x):\n",
    "        x = self.generator(x)\n",
    "        x = self.discriminator(x)\n",
    "        return x\n",
    "    \n",
    "# Custom dataset class\n",
    "class OdorDataset(Dataset):\n",
    "    def __init__(self, data):\n",
    "        self.data = data\n",
    "\n",
    "    def __len__(self):\n",
    "        return len(self.data)\n",
    "\n",
    "    def __getitem__(self, idx):\n",
    "        if torch.is_tensor(idx):\n",
    "            idx = idx.tolist()\n",
    "\n",
    "        sample = self.data.iloc[idx][[\"xsrc\", \"ysrc\", \"odor\", \"corrected_u\", \"corrected_v\"]]\n",
    "        return torch.tensor(sample.values, dtype=torch.float32)"
   ]
  },
  {
   "cell_type": "code",
   "execution_count": 46,
   "id": "ff635b58",
   "metadata": {},
   "outputs": [],
   "source": [
    "# Load and preprocess data\n",
    "dir = '~/DataAnalysis/data/Sprints/HighRes/'\n",
    "data = pd.read_hdf(dir+'Windy/WindyMASigned.h5') # Replace with your data file"
   ]
  },
  {
   "cell_type": "code",
   "execution_count": 47,
   "id": "658ab3a6",
   "metadata": {},
   "outputs": [],
   "source": [
    "new_data=data[:30000]"
   ]
  },
  {
   "cell_type": "code",
   "execution_count": 52,
   "id": "5a9e1d89",
   "metadata": {},
   "outputs": [],
   "source": [
    "dataset = OdorDataset(new_data)\n",
    "dataloader = DataLoader(dataset, batch_size=32, shuffle=True)\n",
    "\n",
    "# Initialize GAN, optimizer, and loss function\n",
    "input_size_g = 4  # xsrc, ysrc, wind_velocity_U, and wind_velocity_V\n",
    "output_size_g = 1  # New odor measurement\n",
    "input_size_d = 5  # xsrc, ysrc, odor, wind_velocity_U, and wind_velocity_V\n",
    "\n",
    "gan = GAN(input_size_g, output_size_g, input_size_d)\n",
    "device = torch.device('cuda:0' if torch.cuda.is_available() else 'cpu')\n",
    "gan.to(device)\n",
    "\n",
    "optimizer = optim.Adam(gan.parameters(), lr=0.001)\n",
    "criterion = nn.BCELoss()\n",
    "\n",
    "\n"
   ]
  },
  {
   "cell_type": "code",
   "execution_count": 54,
   "id": "baa1112d",
   "metadata": {},
   "outputs": [
    {
     "name": "stdout",
     "output_type": "stream",
     "text": [
      "Epoch [10/30], d_loss: 1.2808408737182617, g_loss: 0.47932636737823486\n",
      "Epoch [20/30], d_loss: 1.1237965822219849, g_loss: 0.5511912703514099\n",
      "Epoch [30/30], d_loss: 0.9937782883644104, g_loss: 0.574953556060791\n"
     ]
    }
   ],
   "source": [
    "num_epochs = 30\n",
    "for epoch in range(num_epochs):\n",
    "    for i, real_data in enumerate(dataloader):\n",
    "        real_data = real_data.to(device)\n",
    "        input_gen = real_data[:, [0, 1, 3, 4]]\n",
    "\n",
    "        generated_odor = gan.generator(input_gen)\n",
    "        fake_data = torch.cat((input_gen[:, :2], generated_odor, input_gen[:, 2:]), dim=1)\n",
    "\n",
    "        real_labels = torch.ones(real_data.size(0), 1).to(device)\n",
    "        fake_labels = torch.zeros(fake_data.size(0), 1).to(device)\n",
    "\n",
    "        optimizer.zero_grad()\n",
    "\n",
    "        real_outputs = gan.discriminator(real_data)\n",
    "        real_loss = criterion(real_outputs, real_labels)\n",
    "\n",
    "        fake_outputs = gan.discriminator(fake_data.detach())\n",
    "        fake_loss = criterion(fake_outputs, fake_labels)\n",
    "\n",
    "        d_loss = real_loss + fake_loss\n",
    "        d_loss.backward()\n",
    "        optimizer.step()\n",
    "\n",
    "        optimizer.zero_grad()\n",
    "\n",
    "        fake_outputs = gan.discriminator(fake_data)\n",
    "        g_loss = criterion(fake_outputs, real_labels)\n",
    "\n",
    "        g_loss.backward()\n",
    "        optimizer.step()\n",
    "\n",
    "    if (epoch + 1) % 10 == 0:\n",
    "        print(f'Epoch [{epoch + 1}/{num_epochs}], d_loss: {d_loss.item()}, g_loss: {g_loss.item()}')\n",
    "        fixed_noise = torch.randn(64, input_size_g).to(device)\n",
    "        generated_samples = gan.generator(fixed_noise).detach().cpu().numpy()\n",
    "        print(generated_samples)"
   ]
  },
  {
   "cell_type": "code",
   "execution_count": 42,
   "id": "f90934dc",
   "metadata": {},
   "outputs": [],
   "source": [
    "t_data=data[405000:410000]"
   ]
  },
  {
   "cell_type": "code",
   "execution_count": 43,
   "id": "058e5916",
   "metadata": {},
   "outputs": [],
   "source": [
    "test_data = torch.tensor([\n",
    "    t_data.xsrc.values,\n",
    "    t_data.ysrc.values,\n",
    "    t_data.corrected_u.values,\n",
    "    t_data.corrected_v.values\n",
    "], dtype=torch.float32).T  # Transpose to have the correct shape\n",
    "\n",
    "generated_odor = gan.generator(test_data)\n",
    "# print(generated_odor)\n"
   ]
  },
  {
   "cell_type": "code",
   "execution_count": 44,
   "id": "8dfbf632",
   "metadata": {},
   "outputs": [
    {
     "data": {
      "image/png": "[encoded data removed]",
      "text/plain": [
       "<Figure size 432x288 with 2 Axes>"
      ]
     },
     "metadata": {
      "needs_background": "light"
     },
     "output_type": "display_data"
    }
   ],
   "source": [
    "# Convert generated odor to NumPy array\n",
    "generated_odor_np = generated_odor.detach().numpy()\n",
    "\n",
    "# Get xsrc and ysrc values\n",
    "xsrc_values = t_data.xsrc.values\n",
    "ysrc_values = t_data.ysrc.values\n",
    "\n",
    "# Create a scatter plot\n",
    "plt.scatter(xsrc_values, ysrc_values, c=generated_odor_np, cmap='viridis', marker='o')\n",
    "plt.colorbar(label='Generated odor')\n",
    "plt.xlabel('xsrc')\n",
    "plt.ylabel('ysrc')\n",
    "plt.title('Generated odor measurements')\n",
    "plt.show()"
   ]
  },
  {
   "cell_type": "code",
   "execution_count": 45,
   "id": "a67a11b9",
   "metadata": {},
   "outputs": [
    {
     "data": {
      "image/png": "[encoded data removed]",
      "text/plain": [
       "<Figure size 432x288 with 2 Axes>"
      ]
     },
     "metadata": {
      "needs_background": "light"
     },
     "output_type": "display_data"
    }
   ],
   "source": [
    "# Create a scatter plot\n",
    "plt.scatter(xsrc_values, ysrc_values, c=t_data.odor, cmap='viridis', marker='o')\n",
    "plt.colorbar(label='Generated odor')\n",
    "plt.xlabel('xsrc')\n",
    "plt.ylabel('ysrc')\n",
    "plt.title('Generated odor measurements')\n",
    "plt.show()"
   ]
  },
  {
   "cell_type": "code",
   "execution_count": null,
   "id": "2dc35532",
   "metadata": {},
   "outputs": [],
   "source": []
  }
 ],
 "metadata": {
  "kernelspec": {
   "display_name": "Python 3 (ipykernel)",
   "language": "python",
   "name": "python3"
  },
  "language_info": {
   "codemirror_mode": {
    "name": "ipython",
    "version": 3
   },
   "file_extension": ".py",
   "mimetype": "text/x-python",
   "name": "python",
   "nbconvert_exporter": "python",
   "pygments_lexer": "ipython3",
   "version": "3.8.10"
  }
 },
 "nbformat": 4,
 "nbformat_minor": 5
}
