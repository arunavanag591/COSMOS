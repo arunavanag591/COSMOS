{
 "cells": [
  {
   "cell_type": "code",
   "execution_count": 23,
   "metadata": {},
   "outputs": [],
   "source": [
    "#dataframes\n",
    "import pandas as pd\n",
    "\n",
    "#speedup\n",
    "import multiprocessing as mp\n",
    "\n",
    "#suppress warnings\n",
    "import warnings\n",
    "warnings.simplefilter(action='ignore', category=FutureWarning)\n",
    "pd.TimeSeries = pd.Series \n",
    "\n",
    "#math\n",
    "import numpy as np\n",
    "import sys\n",
    "sys.path.append(\"../\")\n",
    "import odor_stat_calculations as osc\n",
    "\n",
    "\n",
    "#plots\n",
    "import pylab as plt\n",
    "from scipy.stats import gaussian_kde\n",
    "import matplotlib.pyplot as plt\n",
    "from figurefirst import FigureLayout,mpl_functions\n",
    "import figurefirst\n",
    "from mpl_toolkits.axes_grid1 import make_axes_locatable # for colorbar\n",
    "import seaborn as sns\n",
    "sns.set_style(\"whitegrid\")\n",
    "import figurefirst as fifi\n",
    "from IPython.display import display,SVG\n",
    "\n",
    "#misc\n",
    "\n",
    "import time\n",
    "np.set_printoptions(suppress=True)\n",
    "import fly_plot_lib.plot as fpl\n",
    "FS=7\n"
   ]
  },
  {
   "cell_type": "code",
   "execution_count": 24,
   "metadata": {},
   "outputs": [
    {
     "data": {
      "image/png": "[encoded data removed]",
      "text/plain": [
       "<Figure size 826.772x1169.29 with 2 Axes>"
      ]
     },
     "metadata": {},
     "output_type": "display_data"
    }
   ],
   "source": [
    "def load():\n",
    "    layout = fifi.svg_to_axes.FigureLayout('../../Figure2/intermittency.svg', autogenlayers=True, make_mplfigures=True, hide_layers=[])\n",
    "    return layout\n",
    "# path=\"/home/vbl/DataAnalysis/data/simulator/figure/Figure_tracking/\"\n",
    "layout = load()"
   ]
  },
  {
   "cell_type": "code",
   "execution_count": 25,
   "metadata": {},
   "outputs": [],
   "source": [
    "fdf=pd.read_hdf(\"/home/vbl/DataAnalysis/data/simulator/algorithm/whiff.h5\")\n",
    "x_bins = np.arange(0, 51, 5)\n",
    "y_bins = np.arange(-15, 16, 5)\n",
    "\n",
    "# Calculate mean intermittency for each bin\n",
    "mean_intermittency = np.zeros((len(y_bins)-1, len(x_bins)-1))\n",
    "\n",
    "for i in range(len(x_bins)-1):\n",
    "    for j in range(len(y_bins)-1):\n",
    "        mask = ((fdf.avg_distance_along_streakline >= x_bins[i]) & \n",
    "                (fdf.avg_distance_along_streakline < x_bins[i+1]) &\n",
    "                (fdf.avg_nearest_from_streakline >= y_bins[j]) & \n",
    "                (fdf.avg_nearest_from_streakline < y_bins[j+1]))\n",
    "        if mask.any():\n",
    "            mean_intermittency[j, i] = fdf[mask].odor_intermittency.mean()\n",
    "        else:\n",
    "            mean_intermittency[j, i] = np.nan"
   ]
  },
  {
   "cell_type": "code",
   "execution_count": 26,
   "metadata": {},
   "outputs": [],
   "source": [
    "ax=layout.axes[('fig1','ax1')]\n",
    "# im = ax.imshow(mean_intermittency, extent=[x_bins[0], x_bins[-1], y_bins[0], y_bins[-1]],\n",
    "#                    origin='lower',\n",
    "#                    aspect='auto',\n",
    "#                    cmap='RdYlBu_r',\n",
    "#                    vmin=0,\n",
    "#                    vmax=2, rasterized=True)\n",
    "ax.scatter(fdf.avg_distance_along_streakline,fdf.avg_nearest_from_streakline, c=fdf.odor_intermittency, \n",
    "           cmap='viridis',s=2, vmin=0,vmax=2, rasterized=True)\n",
    "\n",
    "ax.set_rasterization_zorder(-20)\n",
    "\n",
    "\n",
    "for x in x_bins:\n",
    "    ax.axvline(x=x, color='black', linestyle='--', linewidth=0.1,alpha=1, rasterized=True)\n",
    "for y in y_bins:\n",
    "    ax.axhline(y=y, color='black', linestyle='--', linewidth=0.1, alpha=1, rasterized=True)\n",
    "\n",
    "\n",
    "\n",
    "\n",
    "ax.grid(False)\n",
    "mpl_functions.adjust_spines(ax,['left', 'bottom'],\n",
    "                           spine_locations={'left': 5, 'bottom': 6}, \n",
    "                           smart_bounds=True,\n",
    "                           yticks=[-15,-10,15],\n",
    "                           xticks=[0,5,50],\n",
    "                           linewidth=0.5)\n",
    "\n",
    "ax.set_xlabel('x, m')\n",
    "ax.xaxis.set_label_coords(0.5, -0.07)\n",
    "ax.set_ylabel('y, m')\n",
    "ax.yaxis.set_label_coords(-0.05, 0.5)\n",
    "# ax.set_xticklabels([])\n",
    "# ax.set_yticklabels([])\n",
    "\n",
    "figurefirst.mpl_functions.set_fontsize(ax, FS)\n",
    "layout.append_figure_to_layer(layout.figures['fig1'], 'fig1', cleartarget=True)\n",
    "layout.write_svg('../../Figure2/intermittency.svg')\n"
   ]
  },
  {
   "cell_type": "code",
   "execution_count": 27,
   "metadata": {},
   "outputs": [],
   "source": [
    "\n",
    "ax = layout.axes[('fig1', 'cbar_inter')]\n",
    "ytic=[0,10]\n",
    "\n",
    "fpl.colorbar(ax=ax, colormap='viridis', orientation='vertical',ticks=ytic)\n",
    "ax.set_rasterization_zorder(-20)\n",
    "mpl_functions.adjust_spines(ax, ['right'], \n",
    "                                    smart_bounds=True,\n",
    "                                    spine_locations={'right': 1}, \n",
    "                                    yticks=ytic,\n",
    "                                    tick_length=1.5,\n",
    "                                    linewidth=0.5)\n",
    "\n",
    "ax.set_ylabel(\"Intermittency, s\",rotation=-90, labelpad=-15)\n",
    "\n",
    "ax.set_yticklabels(['0', '2'])\n",
    "ax.tick_params(axis='y', pad=1) \n",
    "\n",
    "figurefirst.mpl_functions.set_fontsize(ax, FS)\n",
    "layout.append_figure_to_layer(layout.figures['fig1'], 'fig1', cleartarget=True)\n",
    "layout.write_svg('../../Figure2/intermittency.svg')"
   ]
  },
  {
   "cell_type": "code",
   "execution_count": null,
   "metadata": {},
   "outputs": [],
   "source": []
  }
 ],
 "metadata": {
  "kernelspec": {
   "display_name": "vscode38kernel",
   "language": "python",
   "name": "pywork38"
  },
  "language_info": {
   "codemirror_mode": {
    "name": "ipython",
    "version": 3
   },
   "file_extension": ".py",
   "mimetype": "text/x-python",
   "name": "python",
   "nbconvert_exporter": "python",
   "pygments_lexer": "ipython3",
   "version": "3.8.10"
  }
 },
 "nbformat": 4,
 "nbformat_minor": 2
}
