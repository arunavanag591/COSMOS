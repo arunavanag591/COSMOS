{
 "cells": [
  {
   "cell_type": "code",
   "execution_count": 1,
   "metadata": {},
   "outputs": [],
   "source": [
    "#dataframes\n",
    "import pandas as pd\n",
    "\n",
    "#speedup\n",
    "import multiprocessing as mp\n",
    "\n",
    "#suppress warnings\n",
    "import warnings\n",
    "warnings.simplefilter(action='ignore', category=FutureWarning)\n",
    "pd.TimeSeries = pd.Series \n",
    "\n",
    "#math\n",
    "import numpy as np\n",
    "import sys\n",
    "sys.path.append(\"../\")\n",
    "import odor_stat_calculations as osc\n",
    "\n",
    "\n",
    "#plots\n",
    "import pylab as plt\n",
    "import matplotlib.pyplot as plt\n",
    "from matplotlib.path import Path\n",
    "import matplotlib.patches as patches\n",
    "import matplotlib.transforms as transforms\n",
    "\n",
    "from figurefirst import mpl_functions\n",
    "import figurefirst\n",
    "from mpl_toolkits.axes_grid1 import make_axes_locatable # for colorbar\n",
    "import seaborn as sns\n",
    "sns.set_style(\"whitegrid\")\n",
    "import figurefirst as fifi\n",
    "\n",
    "#misc\n",
    "import time\n",
    "np.set_printoptions(suppress=True)\n",
    "import fly_plot_lib.plot as fpl\n",
    "FS=7\n"
   ]
  },
  {
   "cell_type": "code",
   "execution_count": 2,
   "metadata": {},
   "outputs": [],
   "source": [
    "def load():\n",
    "    layout = fifi.svg_to_axes.FigureLayout('../../Figure2/algorithmv1.svg', autogenlayers=True, make_mplfigures=True, hide_layers=[])\n",
    "    return layout\n",
    "\n",
    "df_test = pd.read_hdf('../../data/simulator/figure/Figure_hws/hws_jan22.h5')\n",
    "dfres=pd.read_hdf(\"/home/vbl/DataAnalysis/data/simulator/algorithm/WindyMASigned.h5\")\n",
    "dirname = '../../data/simulator/figure/Figure_hws/'\n",
    "hmap_data = np.load(str(dirname) + \"hmap.npz\")\n",
    "    \n",
    "fitted_p_heatmap=hmap_data['fitted_heatmap']\n",
    "xedges=hmap_data['xedges']\n",
    "yedges=hmap_data['yedges']\n",
    "\n",
    "index = osc.get_index(dfres.odor,4.5)\n",
    "whiff_initiation_points = [sub[0] for sub in index]\n",
    "dfres['whiff_flag'] = 0\n",
    "\n",
    "fdf=pd.read_hdf(\"/home/vbl/DataAnalysis/data/simulator/algorithm/whiff.h5\")\n",
    "# Set 1 for the specified indices in the 'whiff_flag' column\n",
    "dfres.iloc[whiff_initiation_points, dfres.columns.get_loc('whiff_flag')] = 1\n",
    "\n",
    "dfres['distance_along_streakline']=dfres.distance_along_streakline*dfres.xsign\n",
    "dfres['nearest_from_streakline']=dfres.nearest_from_streakline*dfres.ysign\n",
    "\n",
    "test_data = df_test[(df_test['time'] >= 337) & (df_test['time'] <= 339)]\n",
    "test_data.reset_index(inplace=True, drop=True)"
   ]
  },
  {
   "cell_type": "code",
   "execution_count": 4,
   "metadata": {},
   "outputs": [
    {
     "data": {
      "text/plain": [
       "0.03497576713562012"
      ]
     },
     "execution_count": 4,
     "metadata": {},
     "output_type": "execute_result"
    }
   ],
   "source": [
    "np.median(fdf.odor_intermittency)"
   ]
  },
  {
   "cell_type": "code",
   "execution_count": 14,
   "metadata": {},
   "outputs": [
    {
     "data": {
      "image/png": "[encoded data removed]",
      "text/plain": [
       "<Figure size 826.772x1169.29 with 8 Axes>"
      ]
     },
     "metadata": {},
     "output_type": "display_data"
    },
    {
     "data": {
      "image/png": "[encoded data removed]",
      "text/plain": [
       "<Figure size 826.772x1169.29 with 5 Axes>"
      ]
     },
     "metadata": {},
     "output_type": "display_data"
    },
    {
     "data": {
      "image/png": "[encoded data removed]",
      "text/plain": [
       "<Figure size 826.772x1169.29 with 5 Axes>"
      ]
     },
     "metadata": {},
     "output_type": "display_data"
    },
    {
     "data": {
      "image/png": "[encoded data removed]",
      "text/plain": [
       "<Figure size 826.772x1169.29 with 2 Axes>"
      ]
     },
     "metadata": {},
     "output_type": "display_data"
    }
   ],
   "source": [
    "layout=load()"
   ]
  },
  {
   "cell_type": "markdown",
   "metadata": {},
   "source": [
    "Illustration"
   ]
  },
  {
   "cell_type": "markdown",
   "metadata": {},
   "source": [
    "input trajectory"
   ]
  },
  {
   "cell_type": "code",
   "execution_count": 7,
   "metadata": {},
   "outputs": [],
   "source": [
    "ax=layout.axes[('fig_illustration','traj_illustration')]\n",
    "num_arrows=10\n",
    "arrow_size=0.1\n",
    "color_gradient=False\n",
    "x = test_data.distance_along_streakline.values\n",
    "y = test_data.nearest_from_streakline.values\n",
    "\n",
    "# Calculate cumulative distance along the path\n",
    "dx = np.diff(x)\n",
    "dy = np.diff(y)\n",
    "distances = np.sqrt(dx**2 + dy**2)\n",
    "cum_distances = np.concatenate(([0], np.cumsum(distances)))\n",
    "total_distance = cum_distances[-1]\n",
    "\n",
    "# Create points for arrowhead placement with overlap\n",
    "arrow_distances = np.linspace(0, total_distance, num_arrows)\n",
    "\n",
    "# Interpolate points for arrowheads\n",
    "x_arrows = np.interp(arrow_distances, cum_distances, x)\n",
    "y_arrows = np.interp(arrow_distances, cum_distances, y)\n",
    "\n",
    "# Calculate directions for arrowheads\n",
    "dx_arrows = np.gradient(x_arrows)\n",
    "dy_arrows = np.gradient(y_arrows)\n",
    "angles = np.arctan2(dy_arrows, dx_arrows)\n",
    "\n",
    "# Create color gradient\n",
    "if color_gradient:\n",
    "    colors = plt.cm.Blues(np.linspace(0.3, 0.9, num_arrows))\n",
    "else:\n",
    "    colors = ['#1764ab'] * num_arrows\n",
    "\n",
    "# Arrow shape\n",
    "arrow_path = Path([\n",
    "    [0, 0],           # tip\n",
    "    [-3, -0.8],       # back left\n",
    "    [-2.8, 0],        # back middle\n",
    "    [-3, 0.86],        # back right\n",
    "    [0, 0]           # back to tip\n",
    "])\n",
    "\n",
    "# Create and plot arrowheads\n",
    "for i in range(num_arrows):\n",
    "    patch = patches.PathPatch(\n",
    "        arrow_path,\n",
    "        facecolor=colors[i],\n",
    "        edgecolor='none',\n",
    "        transform=transforms.Affine2D()\n",
    "            .scale(arrow_size)\n",
    "            .rotate(angles[i])\n",
    "            .translate(x_arrows[i], y_arrows[i])\n",
    "            + ax.transData,\n",
    "            rasterized=True, zorder=-10\n",
    "    )\n",
    "    ax.add_patch(patch)\n",
    "\n",
    "# ax.set_aspect('equal')\n",
    "ax.axis('off')\n",
    "\n",
    "margin = arrow_size\n",
    "ax.set_xlim(min(x) - margin, max(x) + margin)\n",
    "ax.set_ylim(min(y) - margin, max(y) + margin)\n",
    "ax.set_rasterization_zorder(-20)\n",
    "\n",
    "ax.grid(False)\n",
    "\n",
    "figurefirst.mpl_functions.set_fontsize(ax, FS)\n",
    "layout.append_figure_to_layer(layout.figures['fig_illustration'], 'fig_illustration', cleartarget=True)\n",
    "layout.write_svg('../../Figure2/algorithmv1.svg')"
   ]
  },
  {
   "cell_type": "markdown",
   "metadata": {},
   "source": [
    "data-trajectory"
   ]
  },
  {
   "cell_type": "code",
   "execution_count": 8,
   "metadata": {},
   "outputs": [],
   "source": [
    "ax=layout.axes[('fig_illustration','traj_1')]\n",
    "a1 = 40000\n",
    "a2 = 120000\n",
    "cax1 = ax.scatter(df_test.distance_along_streakline[a1:a2], df_test.nearest_from_streakline[a1:a2], c='black', s = 0.01, edgecolors=None,  \n",
    "                   alpha=0.2, rasterized=True)\n",
    "ax.set_rasterization_zorder(-20)\n",
    "\n",
    "ax.set_xlabel('x')\n",
    "ax.xaxis.set_label_coords(0.5, -0.3)\n",
    "ax.set_ylabel('y')\n",
    "ax.yaxis.set_label_coords(-0.10, 0.5)\n",
    "\n",
    "ax.grid(False)\n",
    "mpl_functions.adjust_spines(ax,['left','bottom'],\n",
    "                           spine_locations={'left': 3, 'bottom': 6}, \n",
    "                           smart_bounds=True,\n",
    "                           yticks=[-15,25],\n",
    "                           xticks=[0,45],\n",
    "                           linewidth=0.5)\n",
    "\n",
    "ax.set_xticklabels([])\n",
    "ax.set_yticklabels([])\n",
    "\n",
    "figurefirst.mpl_functions.set_fontsize(ax, FS)\n",
    "layout.append_figure_to_layer(layout.figures['fig_illustration'], 'fig_illustration', cleartarget=True)\n",
    "layout.write_svg('../../Figure2/algorithmv1.svg')"
   ]
  },
  {
   "cell_type": "markdown",
   "metadata": {},
   "source": [
    "data - odor times series"
   ]
  },
  {
   "cell_type": "code",
   "execution_count": 9,
   "metadata": {},
   "outputs": [],
   "source": [
    "ax=layout.axes[('fig_illustration','traj_odor_ts')]\n",
    "a1 = 80000\n",
    "a2 = 100000\n",
    "# xlimT=[a1,a2]\n",
    "ax.plot(df_test.time[a1:a2], df_test.odor[a1:a2], c='black', rasterized=True, linewidth=0.5)\n",
    "xlimT=[415,418]\n",
    "\n",
    "ax.set_xlim(415, 418)\n",
    "ax.set_rasterization_zorder(-20)\n",
    "\n",
    "\n",
    "mpl_functions.adjust_spines(ax,['left','bottom'],\n",
    "                           spine_locations={'left': 5, 'bottom': 6}, \n",
    "                           smart_bounds=True,\n",
    "                           yticks=[0,10.5],\n",
    "                           xticks=xlimT,\n",
    "                           linewidth=0.5)\n",
    "\n",
    "\n",
    "time = df_test.time[a1:a2].values\n",
    "odor = df_test.odor[a1:a2].values\n",
    "\n",
    "# For whiffs (high values)\n",
    "above_threshold = odor > 4.5\n",
    "transitions = np.diff(above_threshold.astype(int))\n",
    "whiff_starts = time[:-1][transitions == 1]\n",
    "whiff_ends = time[:-1][transitions == -1]\n",
    "\n",
    "ax.axvspan(whiff_starts[2], whiff_ends[2], ymin=0.07, ymax=0.95, alpha=0.2, color='orange', rasterized=True)\n",
    "ax.axvspan(whiff_starts[3], whiff_ends[3], ymin=0.07, ymax=0.95, alpha=0.2, color='orange', rasterized=True)\n",
    "\n",
    "ax.axvspan(415, 415.84, ymin=0.07, ymax=0.95, alpha=0.4, color='g', rasterized=True)\n",
    "ax.axhline(4.5, linestyle='--', c='fuchsia', linewidth=0.4)\n",
    "# ax.axvspan(416.15, 416.32, ymin=0.05, ymax=0.95, alpha=0.2, color='red', rasterized=True)\n",
    "\n",
    "ax.grid(False)\n",
    "ax.set_ylabel('odor')\n",
    "ax.yaxis.set_label_coords(-0.10, 0.5)\n",
    "ax.set_xlabel('time')\n",
    "ax.xaxis.set_label_coords(0.5, -0.3)\n",
    "ax.set_xticklabels([])\n",
    "ax.set_yticklabels([])\n",
    "\n",
    "figurefirst.mpl_functions.set_fontsize(ax, FS)\n",
    "layout.append_figure_to_layer(layout.figures['fig_illustration'], 'fig_illustration', cleartarget=True)\n",
    "layout.write_svg('../../Figure2/algorithmv1.svg')"
   ]
  },
  {
   "cell_type": "markdown",
   "metadata": {},
   "source": [
    "output trajectory"
   ]
  },
  {
   "cell_type": "code",
   "execution_count": 10,
   "metadata": {},
   "outputs": [],
   "source": [
    "ax=layout.axes[('fig_illustration','traj_illustration_1')]\n",
    "num_arrows=10\n",
    "arrow_size=0.1\n",
    "color_gradient=False\n",
    "\n",
    "x = test_data.distance_along_streakline.values\n",
    "y = test_data.nearest_from_streakline.values\n",
    "odor_values = test_data.predicted_odor.values  # Get odor values\n",
    "\n",
    "# Calculate cumulative distance along the path\n",
    "dx = np.diff(x)\n",
    "dy = np.diff(y)\n",
    "distances = np.sqrt(dx**2 + dy**2)\n",
    "cum_distances = np.concatenate(([0], np.cumsum(distances)))\n",
    "total_distance = cum_distances[-1]\n",
    "\n",
    "# Create points for arrowhead placement with overlap\n",
    "arrow_distances = np.linspace(0, total_distance, num_arrows)\n",
    "\n",
    "# Interpolate points for arrowheads\n",
    "x_arrows = np.interp(arrow_distances, cum_distances, x)\n",
    "y_arrows = np.interp(arrow_distances, cum_distances, y)\n",
    "odor_arrows = np.interp(arrow_distances, cum_distances, odor_values)  # Interpolate odor values\n",
    "\n",
    "# Calculate directions for arrowheads\n",
    "dx_arrows = np.gradient(x_arrows)\n",
    "dy_arrows = np.gradient(y_arrows)\n",
    "angles = np.arctan2(dy_arrows, dx_arrows)\n",
    "\n",
    "# Set colors based on odor threshold\n",
    "colors = ['#bc141a' if odor > 4.5 else '#1764ab' for odor in odor_arrows]\n",
    "\n",
    "# Arrow shape\n",
    "arrow_path = Path([\n",
    "    [0, 0],      # tip\n",
    "    [-3, -0.8],  # back left\n",
    "    [-2.8, 0],   # back middle\n",
    "    [-3, 0.86],  # back right\n",
    "    [0, 0]       # back to tip\n",
    "])\n",
    "\n",
    "# Create and plot arrowheads\n",
    "for i in range(num_arrows):\n",
    "    patch = patches.PathPatch(\n",
    "        arrow_path,\n",
    "        facecolor=colors[i],\n",
    "        edgecolor='none',\n",
    "        transform=transforms.Affine2D()\n",
    "            .scale(arrow_size)\n",
    "            .rotate(angles[i])\n",
    "            .translate(x_arrows[i], y_arrows[i])\n",
    "            + ax.transData,\n",
    "        rasterized=True,\n",
    "        zorder=-10\n",
    "    )\n",
    "    ax.add_patch(patch)\n",
    "\n",
    "ax.set_aspect('equal')\n",
    "ax.axis('off')\n",
    "margin = arrow_size\n",
    "ax.set_xlim(min(x) - margin, max(x) + margin)\n",
    "ax.set_ylim(min(y) - margin, max(y) + margin)\n",
    "ax.set_rasterization_zorder(-20)\n",
    "ax.grid(False)\n",
    "\n",
    "figurefirst.mpl_functions.set_fontsize(ax, FS)\n",
    "layout.append_figure_to_layer(layout.figures['fig_illustration'], 'fig_illustration', cleartarget=True)\n",
    "layout.write_svg('../../Figure2/algorithmv1.svg')"
   ]
  },
  {
   "cell_type": "markdown",
   "metadata": {},
   "source": [
    "output odor"
   ]
  },
  {
   "cell_type": "code",
   "execution_count": 11,
   "metadata": {},
   "outputs": [],
   "source": [
    "ax=layout.axes[('fig_illustration','traj_illustration_odor')]\n",
    "lim1=70 \n",
    "lim2=228\n",
    "\n",
    "ax.plot(test_data.time[:lim1], test_data.predicted_odor[:lim1], linewidth=0.5,c='#1764ab',  rasterized=True)\n",
    "ax.plot(test_data.time[lim1:lim2], test_data.predicted_odor[lim1:lim2],linewidth=0.5, c='#bc141a', rasterized=True)\n",
    "ax.plot(test_data.time[lim2:], test_data.predicted_odor[lim2:], linewidth=0.5,c='#1764ab',  rasterized=True)\n",
    "\n",
    "ax.set_rasterization_zorder(-20)\n",
    "\n",
    "xlimTs=[337.25,338.25]\n",
    "\n",
    "# ax.set_xlim(xlimTs)\n",
    "ax.grid(False)\n",
    "mpl_functions.adjust_spines(ax,['left','bottom'],\n",
    "                           spine_locations={'left': 5, 'bottom': 5}, \n",
    "                           smart_bounds=True,\n",
    "                           yticks=[0,10.5],\n",
    "                           xticks=[337,339],\n",
    "                           linewidth=0.5)\n",
    "\n",
    "\n",
    "for spine in ax.spines.values():\n",
    "    spine.set_visible(False)\n",
    "\n",
    "# Add back only the bottom spine\n",
    "ax.spines['bottom'].set_visible(True)\n",
    "ax.spines['bottom'].set_position(('outward', 5))\n",
    "ax.spines['bottom'].set_linewidth(0.5)\n",
    "\n",
    "# Set just the tick marks for y-axis without the connecting line\n",
    "yticks = [0, 10.5]\n",
    "for y in yticks:\n",
    "    ax.plot([-5/72, 0], [y, y], \n",
    "            transform=ax.get_yaxis_transform(), \n",
    "            clip_on=False, \n",
    "            color='black', \n",
    "            linewidth=0.5)\n",
    "\n",
    "\n",
    "ax.set_xlabel('2 s')\n",
    "ax.xaxis.set_label_coords(0.5, -0.25)\n",
    "# ax.set_ylabel('od$_{co}$')\n",
    "# ax.yaxis.set_label_coords(-0.07, 0.5)\n",
    "ax.set_xticklabels([])\n",
    "ax.set_yticklabels([])\n",
    "\n",
    "\n",
    "figurefirst.mpl_functions.set_fontsize(ax, FS)\n",
    "layout.append_figure_to_layer(layout.figures['fig_illustration'], 'fig_illustration', cleartarget=True)\n",
    "layout.write_svg('../../Figure2/algorithmv1.svg')"
   ]
  },
  {
   "cell_type": "markdown",
   "metadata": {},
   "source": [
    "Flow Diagram"
   ]
  },
  {
   "cell_type": "code",
   "execution_count": 210,
   "metadata": {},
   "outputs": [],
   "source": [
    "n_bins_x = n_bins_y = 50\n",
    "heatmap_whiff, xedges, yedges = np.histogram2d(\n",
    "    dfres['distance_along_streakline'], \n",
    "    dfres['nearest_from_streakline'], \n",
    "    bins=[n_bins_x, n_bins_y], \n",
    "    weights=dfres['whiff_flag']\n",
    ")\n",
    "\n",
    "heatmap_total, _, _ = np.histogram2d(\n",
    "    dfres['distance_along_streakline'], \n",
    "    dfres['nearest_from_streakline'], \n",
    "    bins=[n_bins_x, n_bins_y]\n",
    ")\n",
    "\n",
    "# Calculate empirical probabilities (Equation 1)\n",
    "with np.errstate(divide='ignore', invalid='ignore'):\n",
    "    heatmap_prob = np.divide(\n",
    "        heatmap_whiff, \n",
    "        heatmap_total, \n",
    "        out=np.zeros_like(heatmap_whiff), \n",
    "        where=heatmap_total != 0\n",
    "    )"
   ]
  },
  {
   "cell_type": "markdown",
   "metadata": {},
   "source": [
    "Whiffs"
   ]
  },
  {
   "cell_type": "code",
   "execution_count": 211,
   "metadata": {},
   "outputs": [],
   "source": [
    "ax=layout.axes[('fig1','ax1')]\n",
    "cax = ax.imshow(\n",
    "    heatmap_whiff.T,\n",
    "    origin='lower',\n",
    "    extent=[xedges[0], xedges[-1], yedges[0], yedges[-1]],\n",
    "    cmap='Greys', vmin=0, vmax=30, rasterized=True,\n",
    ")\n",
    "ax.set_rasterization_zorder(-20)\n",
    "\n",
    "ax.set_xlabel('x, m')\n",
    "ax.xaxis.set_label_coords(0.5, -0.12)\n",
    "ax.set_ylabel('y, m')\n",
    "ax.yaxis.set_label_coords(-0.12, 0.5)\n",
    "ax.ticklabel_format(useOffset=False)\n",
    "\n",
    "# ax.set_ylim(-40,50)\n",
    "ax.grid(False)\n",
    "mpl_functions.adjust_spines(ax,['left','bottom'],\n",
    "                           spine_locations={'left': 5, 'bottom': 6}, \n",
    "                           smart_bounds=True,\n",
    "                           yticks=[-25,25],\n",
    "                           xticks=[0,55],\n",
    "                           linewidth=0.5)\n",
    "\n",
    "figurefirst.mpl_functions.set_fontsize(ax, FS)\n",
    "layout.append_figure_to_layer(layout.figures['fig1'], 'fig1', cleartarget=True)\n",
    "layout.write_svg('../../Figure2/algorithmv1.svg')"
   ]
  },
  {
   "cell_type": "code",
   "execution_count": 212,
   "metadata": {},
   "outputs": [],
   "source": [
    "ax = layout.axes[('fig1', 'cbar1')]\n",
    "ytic=[0,10]\n",
    "\n",
    "fpl.colorbar(ax=ax, colormap='Greys', orientation='vertical',ticks=ytic)\n",
    "ax.set_rasterization_zorder(-20)\n",
    "mpl_functions.adjust_spines(ax, ['right'], \n",
    "                                    smart_bounds=True,\n",
    "                                    spine_locations={'right': 2}, \n",
    "                                    yticks=ytic,\n",
    "                                    tick_length=1.5,\n",
    "                                    linewidth=0.5)\n",
    "\n",
    "ax.set_ylabel(\"$N(Whiffs)$\",rotation=90, labelpad=-17)\n",
    "\n",
    "ax.set_yticklabels(['0', '30'])\n",
    "ax.tick_params(axis='y', pad=1) \n",
    "figurefirst.mpl_functions.set_fontsize(ax, FS)\n",
    "\n",
    "layout.append_figure_to_layer(layout.figures['fig1'], 'fig1', cleartarget=True)\n",
    "layout.write_svg('../../Figure2/algorithmv1.svg')"
   ]
  },
  {
   "cell_type": "markdown",
   "metadata": {},
   "source": [
    "Visits"
   ]
  },
  {
   "cell_type": "code",
   "execution_count": 213,
   "metadata": {},
   "outputs": [],
   "source": [
    "ax=layout.axes[('fig1','ax1_1')]\n",
    "cax = ax.imshow(\n",
    "    heatmap_total.T,\n",
    "    origin='lower',\n",
    "    extent=[xedges[0], xedges[-1], yedges[0], yedges[-1]],\n",
    "    cmap='Greys', vmin=0, vmax=1000, rasterized=True,\n",
    ")\n",
    "ax.set_rasterization_zorder(-20)\n",
    "\n",
    "# ax.set_xlabel('x, m')\n",
    "# ax.xaxis.set_label_coords(0.5, -0.1)\n",
    "# ax.set_ylabel('y, m')\n",
    "# ax.yaxis.set_label_coords(-0.12, 0.5)\n",
    "\n",
    "ax.ticklabel_format(useOffset=False)\n",
    "ax.grid(False)\n",
    "mpl_functions.adjust_spines(ax,['left', 'bottom'],\n",
    "                           spine_locations={'left': 5, 'bottom': 6}, \n",
    "                           smart_bounds=True,\n",
    "                           yticks=[-25,25],\n",
    "                           xticks=[0,55],\n",
    "                           linewidth=0.5)\n",
    "\n",
    "figurefirst.mpl_functions.set_fontsize(ax, FS)\n",
    "layout.append_figure_to_layer(layout.figures['fig1'], 'fig1', cleartarget=True)\n",
    "layout.write_svg('../../Figure2/algorithmv1.svg')"
   ]
  },
  {
   "cell_type": "code",
   "execution_count": 214,
   "metadata": {},
   "outputs": [],
   "source": [
    "ax = layout.axes[('fig1', 'cbar2')]\n",
    "ytic=[0,10]\n",
    "\n",
    "fpl.colorbar(ax=ax, colormap='Greys', orientation='vertical',ticks=ytic)\n",
    "ax.set_rasterization_zorder(-20)\n",
    "mpl_functions.adjust_spines(ax, ['right'], \n",
    "                                    smart_bounds=True,\n",
    "                                    spine_locations={'right': 2}, \n",
    "                                    yticks=ytic,\n",
    "                                    tick_length=1.5,\n",
    "                                    linewidth=0.5)\n",
    "\n",
    "ax.set_ylabel(\"$N(Visits)$\",rotation=90, labelpad=-17)\n",
    "\n",
    "ax.set_yticklabels(['0', '1000'])\n",
    "ax.tick_params(axis='y', pad=1) \n",
    "figurefirst.mpl_functions.set_fontsize(ax, FS)\n",
    "\n",
    "layout.append_figure_to_layer(layout.figures['fig1'], 'fig1', cleartarget=True)\n",
    "layout.write_svg('../../Figure2/algorithmv1.svg')"
   ]
  },
  {
   "cell_type": "markdown",
   "metadata": {},
   "source": [
    "Probability of Onset"
   ]
  },
  {
   "cell_type": "code",
   "execution_count": 215,
   "metadata": {},
   "outputs": [],
   "source": [
    "ax=layout.axes[('fig1','ax2')]\n",
    "cax = ax.imshow(\n",
    "    heatmap_prob.T,\n",
    "    origin='lower',\n",
    "    extent=[xedges[0], xedges[-1], yedges[0], yedges[-1]],\n",
    "    cmap='Greys', vmin=0, vmax=0.05, rasterized=True,\n",
    ")\n",
    "ax.set_rasterization_zorder(-20)\n",
    "\n",
    "# ax.set_xlabel('x, m')\n",
    "# ax.xaxis.set_label_coords(0.5, -0.1)\n",
    "# ax.set_ylabel('y, m')\n",
    "# ax.yaxis.set_label_coords(-0.1, 0.5)\n",
    "\n",
    "ax.ticklabel_format(useOffset=False)\n",
    "ax.grid(False)\n",
    "mpl_functions.adjust_spines(ax,['left','bottom'],\n",
    "                           spine_locations={'left': 5, 'bottom': 6}, \n",
    "                           smart_bounds=True,\n",
    "                           yticks=[-25,25],\n",
    "                           xticks=[0,55],\n",
    "                           linewidth=0.5)\n",
    "\n",
    "figurefirst.mpl_functions.set_fontsize(ax, FS)\n",
    "layout.append_figure_to_layer(layout.figures['fig1'], 'fig1', cleartarget=True)\n",
    "layout.write_svg('../../Figure2/algorithmv1.svg')"
   ]
  },
  {
   "cell_type": "code",
   "execution_count": 216,
   "metadata": {},
   "outputs": [],
   "source": [
    "ax = layout.axes[('fig1', 'cbar3')]\n",
    "ytic=[0,10]\n",
    "\n",
    "fpl.colorbar(ax=ax, colormap='Greys', orientation='vertical',ticks=ytic)\n",
    "ax.set_rasterization_zorder(-20)\n",
    "mpl_functions.adjust_spines(ax, ['right'], \n",
    "                                    smart_bounds=True,\n",
    "                                    spine_locations={'right': 2}, \n",
    "                                    yticks=ytic,\n",
    "                                    tick_length=1.5,\n",
    "                                    linewidth=0.5)\n",
    "\n",
    "ax.set_ylabel(\"$P(wo|x,y)$\",rotation=90, labelpad=-17)\n",
    "\n",
    "ax.set_yticklabels(['0', '.01'])\n",
    "ax.tick_params(axis='y', pad=1) \n",
    "figurefirst.mpl_functions.set_fontsize(ax, FS)\n",
    "\n",
    "layout.append_figure_to_layer(layout.figures['fig1'], 'fig1', cleartarget=True)\n",
    "layout.write_svg('../../Figure2/algorithmv1.svg')"
   ]
  },
  {
   "cell_type": "markdown",
   "metadata": {},
   "source": [
    "Final Heatmap"
   ]
  },
  {
   "cell_type": "code",
   "execution_count": 217,
   "metadata": {},
   "outputs": [],
   "source": [
    "ax=layout.axes[('fig1','ax4')]\n",
    "cax = ax.imshow(\n",
    "    fitted_p_heatmap.T,\n",
    "    origin='lower',\n",
    "    extent=[xedges[0], xedges[-1], yedges[0], yedges[-1]],\n",
    "    cmap='Greys', vmin=0, vmax=0.01, rasterized=True,\n",
    ")\n",
    "ax.set_rasterization_zorder(-20)\n",
    "\n",
    "# ax.set_xlabel('x, m')\n",
    "# ax.xaxis.set_label_coords(0.5, -0.1)\n",
    "# ax.set_ylabel('y, m')\n",
    "# ax.yaxis.set_label_coords(-0.1, 0.5)\n",
    "\n",
    "ax.ticklabel_format(useOffset=False)\n",
    "\n",
    "# ax.set_ylim(-40,50)\n",
    "ax.grid(False)\n",
    "mpl_functions.adjust_spines(ax,['left','bottom'],\n",
    "                           spine_locations={'left': 5, 'bottom': 6}, \n",
    "                           smart_bounds=True,\n",
    "                           yticks=[-25,25],\n",
    "                           xticks=[0,55],\n",
    "                           linewidth=0.5)\n",
    "\n",
    "figurefirst.mpl_functions.set_fontsize(ax, FS)\n",
    "layout.append_figure_to_layer(layout.figures['fig1'], 'fig1', cleartarget=True)\n",
    "layout.write_svg('../../Figure2/algorithmv1.svg')"
   ]
  },
  {
   "cell_type": "code",
   "execution_count": 218,
   "metadata": {},
   "outputs": [],
   "source": [
    "ax = layout.axes[('fig1', 'cbar5')]\n",
    "ytic=[0,10]\n",
    "\n",
    "fpl.colorbar(ax=ax, colormap='Greys', orientation='vertical',ticks=ytic)\n",
    "ax.set_rasterization_zorder(-20)\n",
    "mpl_functions.adjust_spines(ax, ['right'], \n",
    "                                    smart_bounds=True,\n",
    "                                    spine_locations={'right': 2}, \n",
    "                                    yticks=ytic,\n",
    "                                    tick_length=1.5,\n",
    "                                    linewidth=0.5)\n",
    "\n",
    "ax.set_ylabel(\"$P(wo|x,y)_{min}$\",rotation=90, labelpad=-15, fontsize=6)\n",
    "\n",
    "ax.set_yticklabels(['0', '.01'], fontsize=7)\n",
    "ax.tick_params(axis='y', pad=1) \n",
    "# figurefirst.mpl_functions.set_fontsize(ax, FS)\n",
    "\n",
    "layout.append_figure_to_layer(layout.figures['fig1'], 'fig1', cleartarget=True)\n",
    "layout.write_svg('../../Figure2/algorithmv1.svg')"
   ]
  },
  {
   "cell_type": "markdown",
   "metadata": {},
   "source": [
    "Plot Intermediates"
   ]
  },
  {
   "cell_type": "code",
   "execution_count": 219,
   "metadata": {},
   "outputs": [],
   "source": [
    "df_test =pd.read_hdf(\"/home/vbl/DataAnalysis/data/simulator/algorithm/hws_feb4_intermediates.h5\") "
   ]
  },
  {
   "cell_type": "code",
   "execution_count": 220,
   "metadata": {},
   "outputs": [],
   "source": [
    "ax=layout.axes[('fig2','axbinary')]\n",
    "ax.plot(df_test.time, df_test.whiff_predicted, linewidth=0.5,c='black', rasterized=True)\n",
    "ax.set_rasterization_zorder(-20)\n",
    "ax.set_xticklabels([])\n",
    "ax.set_xlabel('1 s')\n",
    "\n",
    "ax.xaxis.set_label_coords(0.5, -0.3)\n",
    "\n",
    "l=[332.1,333.1]\n",
    "\n",
    "ax.set_xlim(l)\n",
    "ax.grid(False)\n",
    "mpl_functions.adjust_spines(ax,['left','bottom'],\n",
    "                           spine_locations={'left': 5, 'bottom': 6}, \n",
    "                           smart_bounds=True,\n",
    "                           yticks=[0,1],\n",
    "                           xticks=l,\n",
    "                           linewidth=0.5)\n",
    "\n",
    "figurefirst.mpl_functions.set_fontsize(ax, FS)\n",
    "layout.append_figure_to_layer(layout.figures['fig2'], 'fig2', cleartarget=True)\n",
    "layout.write_svg('../../Figure2/algorithmv1.svg')"
   ]
  },
  {
   "cell_type": "code",
   "execution_count": 221,
   "metadata": {},
   "outputs": [],
   "source": [
    "xlimTs=[330,335]\n",
    "\n",
    "ax=layout.axes[('fig2','axtarget')]\n",
    "ax.plot(df_test.time, df_test.target_concentration, linewidth=0.5, c='black', rasterized=True)\n",
    "ax.axhline(4.5, color='r', linestyle='--', linewidth= 0.5, rasterized=True)\n",
    "ax.set_rasterization_zorder(-20)\n",
    "ax.set_xticklabels([])\n",
    "# ax.set_xlabel('1 s')\n",
    "\n",
    "ax.set_xlabel('5 s')\n",
    "ax.xaxis.set_label_coords(0.5, -0.2)\n",
    "ax.set_ylabel('odor, a.u.')\n",
    "ax.yaxis.set_label_coords(-0.12, 0.5)\n",
    "\n",
    "ax.set_xlim(331.5,332.5)\n",
    "ax.grid(False)\n",
    "mpl_functions.adjust_spines(ax,['left','bottom'],\n",
    "                           spine_locations={'left': 5, 'bottom': 6}, \n",
    "                           smart_bounds=True,\n",
    "                           yticks=[-10,25],\n",
    "                           xticks=xlimTs,\n",
    "                           linewidth=0.5)\n",
    "\n",
    "figurefirst.mpl_functions.set_fontsize(ax, FS)\n",
    "layout.append_figure_to_layer(layout.figures['fig2'], 'fig2', cleartarget=True)\n",
    "layout.write_svg('../../Figure2/algorithmv1.svg')"
   ]
  },
  {
   "cell_type": "code",
   "execution_count": 222,
   "metadata": {},
   "outputs": [],
   "source": [
    "xlimTs=[330,335]\n",
    "\n",
    "ax=layout.axes[('fig2','ax5')]\n",
    "ax.plot(df_test.time, df_test.logistic_transform, linewidth=0.5,c='black', rasterized=True)\n",
    "ax.set_rasterization_zorder(-20)\n",
    "# xlimTs=[138,143]\n",
    "ax.set_xticklabels([])\n",
    "\n",
    "ax.set_xlabel('5 s')\n",
    "ax.xaxis.set_label_coords(0.5, -0.2)\n",
    "# ax.set_ylabel('odor, a.u.')\n",
    "# ax.yaxis.set_label_coords(-0.1, 0.5)\n",
    "ax.set_xlim(xlimTs)\n",
    "ax.grid(False)\n",
    "\n",
    "mpl_functions.adjust_spines(ax,['left', 'bottom'],\n",
    "                           spine_locations={'left': 5, 'bottom': 6}, \n",
    "                           smart_bounds=True,\n",
    "                           yticks=[-10,25],\n",
    "                           xticks=xlimTs,\n",
    "                           linewidth=0.5)\n",
    "\n",
    "figurefirst.mpl_functions.set_fontsize(ax, FS)\n",
    "layout.append_figure_to_layer(layout.figures['fig2'], 'fig2', cleartarget=True)\n",
    "layout.write_svg('../../Figure2/algorithmv1.svg')"
   ]
  },
  {
   "cell_type": "code",
   "execution_count": 223,
   "metadata": {},
   "outputs": [],
   "source": [
    "ax=layout.axes[('fig2','ax6')]\n",
    "ax.plot(df_test.time, df_test.ar2_output, linewidth=0.5,c='black', rasterized=True)\n",
    "ax.set_rasterization_zorder(-20)\n",
    "ax.set_xticklabels([])\n",
    "ax.set_xlabel('5 s')\n",
    "ax.xaxis.set_label_coords(0.5, -0.2)\n",
    "ax.set_ylim(-10,20)\n",
    "ax.set_xlim(xlimTs)\n",
    "ax.grid(False)\n",
    "\n",
    "mpl_functions.adjust_spines(ax,['left', 'bottom'],\n",
    "                           spine_locations={'left': 5, 'bottom': 6}, \n",
    "                           smart_bounds=True,\n",
    "                           yticks=[-10,0,10,25],\n",
    "                           xticks=xlimTs,\n",
    "                           linewidth=0.5)\n",
    "\n",
    "figurefirst.mpl_functions.set_fontsize(ax, FS)\n",
    "layout.append_figure_to_layer(layout.figures['fig2'], 'fig2', cleartarget=True)\n",
    "layout.write_svg('../../Figure2/algorithmv1.svg')"
   ]
  },
  {
   "cell_type": "code",
   "execution_count": 224,
   "metadata": {},
   "outputs": [],
   "source": [
    "ax=layout.axes[('fig2','ax7')]\n",
    "ax.plot(df_test.time, df_test.predicted_odor, linewidth=1,c='black', rasterized=True)\n",
    "ax.axhline(4.5, color='r', linestyle='--', linewidth= 0.5, rasterized=True)\n",
    "ax.set_rasterization_zorder(-20)\n",
    "ax.set_xticklabels([])\n",
    "ax.set_xlabel('5 s')\n",
    "ax.xaxis.set_label_coords(0.5, -0.2)\n",
    "\n",
    "ax.set_xlim(xlimTs)\n",
    "ax.grid(False)\n",
    "mpl_functions.adjust_spines(ax,['left','bottom'],\n",
    "                           spine_locations={'left': 5, 'bottom': 6}, \n",
    "                           smart_bounds=True,\n",
    "                           yticks=[-10,0,10,25],\n",
    "                           xticks=xlimTs,\n",
    "                           linewidth=0.5)\n",
    "\n",
    "figurefirst.mpl_functions.set_fontsize(ax, FS)\n",
    "layout.append_figure_to_layer(layout.figures['fig2'], 'fig2', cleartarget=True)\n",
    "layout.write_svg('../../Figure2/algorithmv1.svg')"
   ]
  },
  {
   "cell_type": "markdown",
   "metadata": {},
   "source": [
    "Intermittency"
   ]
  },
  {
   "cell_type": "code",
   "execution_count": 29,
   "metadata": {},
   "outputs": [
    {
     "data": {
      "image/png": "[encoded data removed]",
      "text/plain": [
       "<Figure size 826.772x1169.29 with 8 Axes>"
      ]
     },
     "metadata": {},
     "output_type": "display_data"
    },
    {
     "data": {
      "image/png": "[encoded data removed]",
      "text/plain": [
       "<Figure size 826.772x1169.29 with 5 Axes>"
      ]
     },
     "metadata": {},
     "output_type": "display_data"
    },
    {
     "data": {
      "image/png": "[encoded data removed]",
      "text/plain": [
       "<Figure size 826.772x1169.29 with 5 Axes>"
      ]
     },
     "metadata": {},
     "output_type": "display_data"
    },
    {
     "data": {
      "image/png": "[encoded data removed]",
      "text/plain": [
       "<Figure size 826.772x1169.29 with 2 Axes>"
      ]
     },
     "metadata": {},
     "output_type": "display_data"
    }
   ],
   "source": [
    "layout=load()"
   ]
  },
  {
   "cell_type": "code",
   "execution_count": 30,
   "metadata": {},
   "outputs": [],
   "source": [
    "x_bins = np.arange(0, 51, 5)\n",
    "y_bins = np.arange(-15, 16, 5)\n",
    "\n",
    "# Calculate mean intermittency for each bin\n",
    "mean_intermittency = np.zeros((len(y_bins)-1, len(x_bins)-1))\n",
    "\n",
    "for i in range(len(x_bins)-1):\n",
    "    for j in range(len(y_bins)-1):\n",
    "        mask = ((fdf.avg_distance_along_streakline >= x_bins[i]) & \n",
    "                (fdf.avg_distance_along_streakline < x_bins[i+1]) &\n",
    "                (fdf.avg_nearest_from_streakline >= y_bins[j]) & \n",
    "                (fdf.avg_nearest_from_streakline < y_bins[j+1]))\n",
    "        if mask.any():\n",
    "            mean_intermittency[j, i] = fdf[mask].odor_intermittency.mean()\n",
    "        else:\n",
    "            mean_intermittency[j, i] = np.nan"
   ]
  },
  {
   "cell_type": "code",
   "execution_count": 31,
   "metadata": {},
   "outputs": [],
   "source": [
    "ax=layout.axes[('fig_inter','inter_ax')]\n",
    "# im = ax.imshow(mean_intermittency, extent=[x_bins[0], x_bins[-1], y_bins[0], y_bins[-1]],\n",
    "#                    origin='lower',\n",
    "#                    aspect='auto',\n",
    "#                    cmap='RdYlBu_r',\n",
    "#                    vmin=0,\n",
    "#                    vmax=2, rasterized=True)\n",
    "ax.scatter(fdf.avg_distance_along_streakline,fdf.avg_nearest_from_streakline, c=fdf.odor_intermittency, \n",
    "           cmap='viridis',s=0.5,vmin=0,vmax=2, rasterized=True)\n",
    "\n",
    "ax.set_rasterization_zorder(-20)\n",
    "\n",
    "\n",
    "for x in x_bins:\n",
    "    ax.axvline(x=x, color='black', linestyle='--', linewidth=0.1,alpha=1, rasterized=True)\n",
    "for y in y_bins:\n",
    "    ax.axhline(y=y, color='black', linestyle='--', linewidth=0.1, alpha=1, rasterized=True)\n",
    "\n",
    "\n",
    "ax.set_xlabel('x, m')\n",
    "ax.xaxis.set_label_coords(0.5, -0.15)\n",
    "ax.set_ylabel('y, m')\n",
    "ax.yaxis.set_label_coords(-0.10, 0.5)\n",
    "\n",
    "ax.grid(False)\n",
    "mpl_functions.adjust_spines(ax,['left', 'bottom'],\n",
    "                           spine_locations={'left': 5, 'bottom': 6}, \n",
    "                           smart_bounds=True,\n",
    "                           yticks=[-15,-10,15],\n",
    "                           xticks=[0,5,50],\n",
    "                           linewidth=0.5)\n",
    "\n",
    "\n",
    "# ax.set_xticklabels([])\n",
    "# ax.set_yticklabels([])\n",
    "\n",
    "figurefirst.mpl_functions.set_fontsize(ax, FS)\n",
    "layout.append_figure_to_layer(layout.figures['fig_inter'], 'fig_inter', cleartarget=True)\n",
    "layout.write_svg('../../Figure2/algorithmv1.svg')\n"
   ]
  },
  {
   "cell_type": "code",
   "execution_count": 32,
   "metadata": {},
   "outputs": [],
   "source": [
    "\n",
    "ax = layout.axes[('fig_inter', 'cbar_inter')]\n",
    "ytic=[0,10]\n",
    "\n",
    "fpl.colorbar(ax=ax, colormap='viridis', orientation='vertical',ticks=ytic)\n",
    "ax.set_rasterization_zorder(-20)\n",
    "mpl_functions.adjust_spines(ax, ['right'], \n",
    "                                    smart_bounds=True,\n",
    "                                    spine_locations={'right': 1}, \n",
    "                                    yticks=ytic,\n",
    "                                    tick_length=1.5,\n",
    "                                    linewidth=0.5)\n",
    "\n",
    "ax.set_ylabel(\"Intermittency, s\",rotation=90, labelpad=-20)\n",
    "\n",
    "ax.set_yticklabels(['0', '2'])\n",
    "ax.tick_params(axis='y', pad=1) \n",
    "\n",
    "figurefirst.mpl_functions.set_fontsize(ax, FS)\n",
    "layout.append_figure_to_layer(layout.figures['fig_inter'], 'fig_inter', cleartarget=True)\n",
    "layout.write_svg('../../Figure2/algorithmv1.svg')"
   ]
  },
  {
   "cell_type": "code",
   "execution_count": null,
   "metadata": {},
   "outputs": [],
   "source": []
  }
 ],
 "metadata": {
  "kernelspec": {
   "display_name": "vscode38kernel",
   "language": "python",
   "name": "pywork38"
  },
  "language_info": {
   "codemirror_mode": {
    "name": "ipython",
    "version": 3
   },
   "file_extension": ".py",
   "mimetype": "text/x-python",
   "name": "python",
   "nbconvert_exporter": "python",
   "pygments_lexer": "ipython3",
   "version": "3.8.10"
  }
 },
 "nbformat": 4,
 "nbformat_minor": 2
}
