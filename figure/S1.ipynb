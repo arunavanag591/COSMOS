{
 "cells": [
  {
   "cell_type": "code",
   "execution_count": 1,
   "metadata": {},
   "outputs": [],
   "source": [
    "#dataframes\n",
    "import pandas as pd\n",
    "\n",
    "#speedup\n",
    "import multiprocessing as mp\n",
    "\n",
    "#suppress warnings\n",
    "import warnings\n",
    "warnings.simplefilter(action='ignore', category=FutureWarning)\n",
    "pd.TimeSeries = pd.Series \n",
    "\n",
    "#math\n",
    "import numpy as np\n",
    "import sys\n",
    "sys.path.append(\"../\")\n",
    "import odor_stat_calculations as osc\n",
    "\n",
    "\n",
    "#plots\n",
    "import pylab as plt\n",
    "from scipy.stats import gaussian_kde\n",
    "import matplotlib.pyplot as plt\n",
    "from figurefirst import FigureLayout,mpl_functions\n",
    "import figurefirst\n",
    "from mpl_toolkits.axes_grid1 import make_axes_locatable # for colorbar\n",
    "import seaborn as sns\n",
    "sns.set_style(\"whitegrid\")\n",
    "import figurefirst as fifi\n",
    "from IPython.display import display,SVG\n",
    "\n",
    "#misc\n",
    "import time\n",
    "np.set_printoptions(suppress=True)\n",
    "import fly_plot_lib.plot as fpl\n",
    "FS=7\n"
   ]
  },
  {
   "cell_type": "code",
   "execution_count": 2,
   "metadata": {},
   "outputs": [
    {
     "data": {
      "image/png": "[encoded data removed]",
      "text/plain": [
       "<Figure size 826.772x1169.29 with 5 Axes>"
      ]
     },
     "metadata": {},
     "output_type": "display_data"
    },
    {
     "data": {
      "image/png": "[encoded data removed]",
      "text/plain": [
       "<Figure size 826.772x1169.29 with 8 Axes>"
      ]
     },
     "metadata": {},
     "output_type": "display_data"
    }
   ],
   "source": [
    "def load():\n",
    "    layout = fifi.svg_to_axes.FigureLayout('../svgs/S1.svg', autogenlayers=True, make_mplfigures=True, hide_layers=[])\n",
    "    return layout\n",
    "# path=\"/home/vbl/DataAnalysis/data/simulator/figure/Figure_tracking/\"\n",
    "layout = load()"
   ]
  },
  {
   "cell_type": "code",
   "execution_count": 4,
   "metadata": {},
   "outputs": [],
   "source": [
    "fdf=pd.read_hdf(\"../data/algorithm/whiff.h5\")\n",
    "x_bins = np.arange(0, 51, 5)\n",
    "y_bins = np.arange(-15, 16, 5)"
   ]
  },
  {
   "cell_type": "markdown",
   "metadata": {},
   "source": [
    "Concentration"
   ]
  },
  {
   "cell_type": "code",
   "execution_count": 5,
   "metadata": {},
   "outputs": [],
   "source": [
    "ax=layout.axes[('fig1','ax1')]\n",
    "ax.scatter(fdf.avg_distance_along_streakline,fdf.avg_nearest_from_streakline, c=fdf.length_of_encounter, \n",
    "           cmap='inferno_r',s=2, vmin=0,vmax=0.1, rasterized=True)\n",
    "\n",
    "ax.set_rasterization_zorder(-20)\n",
    "\n",
    "for x in x_bins:\n",
    "    ax.axvline(x=x, color='black', linestyle='--', linewidth=0.1,alpha=1, rasterized=True)\n",
    "for y in y_bins:\n",
    "    ax.axhline(y=y, color='black', linestyle='--', linewidth=0.1, alpha=1, rasterized=True)\n",
    "\n",
    "ax.grid(False)\n",
    "mpl_functions.adjust_spines(ax,['left', 'bottom'],\n",
    "                           spine_locations={'left': 5, 'bottom': 6}, \n",
    "                           smart_bounds=True,\n",
    "                           yticks=[-15,-10,15],\n",
    "                           xticks=[0,5,50],\n",
    "                           linewidth=0.5)\n",
    "\n",
    "ax.set_xlabel('x, m')\n",
    "ax.xaxis.set_label_coords(0.5, -0.1)\n",
    "ax.set_ylabel('y, m')\n",
    "ax.yaxis.set_label_coords(-0.1, 0.5)\n",
    "\n",
    "figurefirst.mpl_functions.set_fontsize(ax, FS)\n",
    "layout.append_figure_to_layer(layout.figures['fig1'], 'fig1', cleartarget=True)\n",
    "layout.write_svg('../svgs/S1.svg')\n"
   ]
  },
  {
   "cell_type": "code",
   "execution_count": 6,
   "metadata": {},
   "outputs": [],
   "source": [
    "ax = layout.axes[('fig1', 'c1')]\n",
    "ytic=[0,10]\n",
    "\n",
    "fpl.colorbar(ax=ax, colormap='inferno_r', orientation='vertical',ticks=ytic)\n",
    "ax.set_rasterization_zorder(-20)\n",
    "mpl_functions.adjust_spines(ax, ['right'], \n",
    "                                    smart_bounds=True,\n",
    "                                    spine_locations={'right': 1}, \n",
    "                                    yticks=ytic,\n",
    "                                    tick_length=1.5,\n",
    "                                    linewidth=0.5)\n",
    "\n",
    "ax.set_ylabel(\"WD,s\",labelpad=-20)\n",
    "\n",
    "ax.set_yticklabels(['0', '0.1'])\n",
    "ax.tick_params(axis='y', pad=1) \n",
    "\n",
    "figurefirst.mpl_functions.set_fontsize(ax, FS)\n",
    "layout.append_figure_to_layer(layout.figures['fig1'], 'fig1', cleartarget=True)\n",
    "layout.write_svg('../svgs/S1.svg')"
   ]
  },
  {
   "cell_type": "markdown",
   "metadata": {},
   "source": [
    "Concentration"
   ]
  },
  {
   "cell_type": "code",
   "execution_count": 7,
   "metadata": {},
   "outputs": [],
   "source": [
    "ax=layout.axes[('fig1','ax2')]\n",
    "ax.scatter(fdf.avg_distance_along_streakline,fdf.avg_nearest_from_streakline, c=fdf.mean_concentration, \n",
    "           cmap='inferno_r',s=2, vmin=0,vmax=10, rasterized=True)\n",
    "\n",
    "ax.set_rasterization_zorder(-20)\n",
    "\n",
    "for x in x_bins:\n",
    "    ax.axvline(x=x, color='black', linestyle='--', linewidth=0.1,alpha=1, rasterized=True)\n",
    "for y in y_bins:\n",
    "    ax.axhline(y=y, color='black', linestyle='--', linewidth=0.1, alpha=1, rasterized=True)\n",
    "\n",
    "ax.grid(False)\n",
    "mpl_functions.adjust_spines(ax,['bottom'],\n",
    "                           spine_locations={'left': 5, 'bottom': 6}, \n",
    "                           smart_bounds=True,\n",
    "                           yticks=[-15,-10,15],\n",
    "                           xticks=[0,5,50],\n",
    "                           linewidth=0.5)\n",
    "ax.set_xlabel('x, m')\n",
    "ax.xaxis.set_label_coords(0.5, -0.1)\n",
    "# ax.set_ylabel('y, m')\n",
    "# ax.yaxis.set_label_coords(-0.05, 0.5)\n",
    "\n",
    "figurefirst.mpl_functions.set_fontsize(ax, FS)\n",
    "layout.append_figure_to_layer(layout.figures['fig1'], 'fig1', cleartarget=True)\n",
    "layout.write_svg('../svgs/S1.svg')"
   ]
  },
  {
   "cell_type": "code",
   "execution_count": 8,
   "metadata": {},
   "outputs": [],
   "source": [
    "ax = layout.axes[('fig1', 'c2')]\n",
    "ytic=[0,10]\n",
    "\n",
    "fpl.colorbar(ax=ax, colormap='inferno_r', orientation='vertical',ticks=ytic)\n",
    "ax.set_rasterization_zorder(-20)\n",
    "mpl_functions.adjust_spines(ax, ['right'], \n",
    "                                    smart_bounds=True,\n",
    "                                    spine_locations={'right': 1}, \n",
    "                                    yticks=ytic,\n",
    "                                    tick_length=1.5,\n",
    "                                    linewidth=0.5)\n",
    "\n",
    "ax.set_ylabel(\"WC,a.u.\",labelpad=-20)\n",
    "\n",
    "ax.set_yticklabels(['0', '10'])\n",
    "ax.tick_params(axis='y', pad=1) \n",
    "\n",
    "figurefirst.mpl_functions.set_fontsize(ax, FS)\n",
    "layout.append_figure_to_layer(layout.figures['fig1'], 'fig1', cleartarget=True)\n",
    "layout.write_svg('../svgs/S1.svg')"
   ]
  },
  {
   "cell_type": "markdown",
   "metadata": {},
   "source": [
    "Std Dev"
   ]
  },
  {
   "cell_type": "code",
   "execution_count": 9,
   "metadata": {},
   "outputs": [],
   "source": [
    "ax=layout.axes[('fig1','ax3')]\n",
    "ax.scatter(fdf.avg_distance_along_streakline,fdf.avg_nearest_from_streakline, c=fdf.std_whiff, \n",
    "           cmap='inferno_r',s=2, vmin=0,vmax=2, rasterized=True)\n",
    "\n",
    "ax.set_rasterization_zorder(-20)\n",
    "\n",
    "for x in x_bins:\n",
    "    ax.axvline(x=x, color='black', linestyle='--', linewidth=0.1,alpha=1, rasterized=True)\n",
    "for y in y_bins:\n",
    "    ax.axhline(y=y, color='black', linestyle='--', linewidth=0.1, alpha=1, rasterized=True)\n",
    "\n",
    "ax.grid(False)\n",
    "mpl_functions.adjust_spines(ax,['bottom'],\n",
    "                           spine_locations={'left': 5, 'bottom': 6}, \n",
    "                           smart_bounds=True,\n",
    "                           yticks=[-15,-10,15],\n",
    "                           xticks=[0,5,50],\n",
    "                           linewidth=0.5)\n",
    "\n",
    "ax.set_xlabel('x, m')\n",
    "ax.xaxis.set_label_coords(0.5, -0.1)\n",
    "# ax.set_ylabel('y, m')\n",
    "# ax.yaxis.set_label_coords(-0.05, 0.5)\n",
    "\n",
    "figurefirst.mpl_functions.set_fontsize(ax, FS)\n",
    "layout.append_figure_to_layer(layout.figures['fig1'], 'fig1', cleartarget=True)\n",
    "layout.write_svg('../svgs/S1.svg')"
   ]
  },
  {
   "cell_type": "code",
   "execution_count": 10,
   "metadata": {},
   "outputs": [],
   "source": [
    "ax = layout.axes[('fig1', 'c3')]\n",
    "ytic=[0,10]\n",
    "\n",
    "fpl.colorbar(ax=ax, colormap='inferno_r', orientation='vertical',ticks=ytic)\n",
    "ax.set_rasterization_zorder(-20)\n",
    "mpl_functions.adjust_spines(ax, ['right'], \n",
    "                                    smart_bounds=True,\n",
    "                                    spine_locations={'right': 1}, \n",
    "                                    yticks=ytic,\n",
    "                                    tick_length=1.5,\n",
    "                                    linewidth=0.5)\n",
    "\n",
    "ax.set_ylabel(\"WSD,a.u.\",labelpad=-20)\n",
    "\n",
    "ax.set_yticklabels(['0', '2'])\n",
    "ax.tick_params(axis='y', pad=1) \n",
    "\n",
    "figurefirst.mpl_functions.set_fontsize(ax, FS)\n",
    "layout.append_figure_to_layer(layout.figures['fig1'], 'fig1', cleartarget=True)\n",
    "layout.write_svg('../svgs/S1.svg')"
   ]
  },
  {
   "cell_type": "markdown",
   "metadata": {},
   "source": [
    "Intermittency"
   ]
  },
  {
   "cell_type": "code",
   "execution_count": 11,
   "metadata": {},
   "outputs": [],
   "source": [
    "ax=layout.axes[('fig1','ax4')]\n",
    "ax.scatter(fdf.avg_distance_along_streakline,fdf.avg_nearest_from_streakline, c=fdf.odor_intermittency, \n",
    "           cmap='inferno_r',s=2, vmin=0,vmax=2, rasterized=True)\n",
    "\n",
    "ax.set_rasterization_zorder(-20)\n",
    "\n",
    "for x in x_bins:\n",
    "    ax.axvline(x=x, color='black', linestyle='--', linewidth=0.1,alpha=1, rasterized=True)\n",
    "for y in y_bins:\n",
    "    ax.axhline(y=y, color='black', linestyle='--', linewidth=0.1, alpha=1, rasterized=True)\n",
    "\n",
    "ax.grid(False)\n",
    "mpl_functions.adjust_spines(ax,['bottom'],\n",
    "                           spine_locations={'left': 5, 'bottom': 6}, \n",
    "                           smart_bounds=True,\n",
    "                           yticks=[-15,-10,15],\n",
    "                           xticks=[0,5,50],\n",
    "                           linewidth=0.5)\n",
    "\n",
    "ax.set_xlabel('x, m')\n",
    "ax.xaxis.set_label_coords(0.5, -0.1)\n",
    "# ax.set_ylabel('y, m')\n",
    "# ax.yaxis.set_label_coords(-0.05, 0.5)\n",
    "\n",
    "figurefirst.mpl_functions.set_fontsize(ax, FS)\n",
    "layout.append_figure_to_layer(layout.figures['fig1'], 'fig1', cleartarget=True)\n",
    "layout.write_svg('../svgs/S1.svg')"
   ]
  },
  {
   "cell_type": "code",
   "execution_count": 12,
   "metadata": {},
   "outputs": [],
   "source": [
    "ax = layout.axes[('fig1', 'c4')]\n",
    "ytic=[0,10]\n",
    "\n",
    "fpl.colorbar(ax=ax, colormap='inferno_r', orientation='vertical',ticks=ytic)\n",
    "ax.set_rasterization_zorder(-20)\n",
    "mpl_functions.adjust_spines(ax, ['right'], \n",
    "                                    smart_bounds=True,\n",
    "                                    spine_locations={'right': 1}, \n",
    "                                    yticks=ytic,\n",
    "                                    tick_length=1.5,\n",
    "                                    linewidth=0.5)\n",
    "\n",
    "ax.set_ylabel(\"WI,s\",labelpad=-20)\n",
    "\n",
    "ax.set_yticklabels(['0', '2'])\n",
    "ax.tick_params(axis='y', pad=1) \n",
    "\n",
    "figurefirst.mpl_functions.set_fontsize(ax, FS)\n",
    "layout.append_figure_to_layer(layout.figures['fig1'], 'fig1', cleartarget=True)\n",
    "layout.write_svg('../svgs/S1.svg')"
   ]
  },
  {
   "cell_type": "markdown",
   "metadata": {},
   "source": [
    "### AR Updates"
   ]
  },
  {
   "cell_type": "code",
   "execution_count": 14,
   "metadata": {},
   "outputs": [],
   "source": [
    "df_test =pd.read_hdf(\"../data/algorithm/intermediates.h5\") "
   ]
  },
  {
   "cell_type": "code",
   "execution_count": 15,
   "metadata": {},
   "outputs": [],
   "source": [
    "df_test['whiff_duration_signal'] = 0\n",
    "index = osc.get_index(df_test.predicted_odor,4.5)\n",
    "# 3. Set each index in the groups to 1\n",
    "for group in index:\n",
    "    df_test.iloc[group, df_test.columns.get_loc('whiff_duration_signal')] = 1"
   ]
  },
  {
   "cell_type": "code",
   "execution_count": 16,
   "metadata": {},
   "outputs": [],
   "source": [
    "xlimTs=[332.3,332.8]\n",
    "plot_lim_1=66507\n",
    "plot_lim_2=66585\n",
    "\n",
    "color_lim_1=66582\n",
    "color_lim_2=66585\n",
    "\n",
    "ax=layout.axes[('fig2','axbinary')]\n",
    "ax.plot(df_test.time[plot_lim_1:66594], df_test.whiff_duration_signal[plot_lim_1:66594], linewidth=0.5, c='black', rasterized=True)\n",
    "# ax.plot(df_test.time[color_lim_1:66594], df_test.whiff_duration_signal[color_lim_1:66594], linewidth=0.5, c='r', rasterized=True)\n",
    "# ax.axhline(4.5, color='r', linestyle='--', linewidth= 0.5, rasterized=True)\n",
    "ax.set_rasterization_zorder(-20)\n",
    "ax.set_xticklabels([])\n",
    "# ax.set_xlabel('1 s')\n",
    "\n",
    "ax.set_xlabel('0.5 s')\n",
    "ax.xaxis.set_label_coords(0.5, -0.3)\n",
    "# ax.set_ylabel('odor, a.u.')\n",
    "ax.yaxis.set_label_coords(-0.12, 0.5)\n",
    "\n",
    "ax.set_xlim(xlimTs)\n",
    "ax.grid(False)\n",
    "mpl_functions.adjust_spines(ax,['left','bottom'],\n",
    "                           spine_locations={'left': 5, 'bottom': 6}, \n",
    "                           smart_bounds=True,\n",
    "                           yticks=[0,1],\n",
    "                           xticks=xlimTs,\n",
    "                           linewidth=0.5)\n",
    "ax.set_yticklabels(['0','1'])\n",
    "figurefirst.mpl_functions.set_fontsize(ax, FS)\n",
    "layout.append_figure_to_layer(layout.figures['fig2'], 'fig2', cleartarget=True)\n",
    "layout.write_svg('../svgs/S1.svg')"
   ]
  },
  {
   "cell_type": "code",
   "execution_count": 17,
   "metadata": {},
   "outputs": [],
   "source": [
    "xlimTs=[332.3,332.8]\n",
    "\n",
    "ax=layout.axes[('fig2','axtarget')]\n",
    "ax.plot(df_test.time, df_test.target_concentration, linewidth=0.5, c='black', rasterized=True)\n",
    "ax.axhline(4.5, color='r', linestyle='--', linewidth= 0.5, rasterized=True)\n",
    "ax.set_rasterization_zorder(-20)\n",
    "ax.set_xticklabels([])\n",
    "# ax.set_xlabel('1 s')\n",
    "\n",
    "ax.set_xlabel('0.5 s')\n",
    "ax.xaxis.set_label_coords(0.5, -0.2)\n",
    "ax.set_ylabel('odor, a.u.')\n",
    "ax.yaxis.set_label_coords(-0.12, 0.5)\n",
    "\n",
    "ax.set_xlim(332.3,332.8)\n",
    "ax.grid(False)\n",
    "mpl_functions.adjust_spines(ax,['left','bottom'],\n",
    "                           spine_locations={'left': 5, 'bottom': 6}, \n",
    "                           smart_bounds=True,\n",
    "                           yticks=[-10,25],\n",
    "                           xticks=xlimTs,\n",
    "                           linewidth=0.5)\n",
    "\n",
    "figurefirst.mpl_functions.set_fontsize(ax, FS)\n",
    "layout.append_figure_to_layer(layout.figures['fig2'], 'fig2', cleartarget=True)\n",
    "layout.write_svg('../svgs/S1.svg')"
   ]
  },
  {
   "cell_type": "code",
   "execution_count": 18,
   "metadata": {},
   "outputs": [],
   "source": [
    "ax=layout.axes[('fig2','ax5')]\n",
    "ax.plot(df_test.time, df_test.logistic_transform, linewidth=0.5,c='black', rasterized=True)\n",
    "ax.set_rasterization_zorder(-20)\n",
    "# xlimTs=[138,143]\n",
    "ax.set_xticklabels([])\n",
    "\n",
    "ax.set_xlabel('0.5 s')\n",
    "ax.xaxis.set_label_coords(0.5, -0.2)\n",
    "# ax.set_ylabel('odor, a.u.')\n",
    "# ax.yaxis.set_label_coords(-0.1, 0.5)\n",
    "ax.set_xlim(xlimTs)\n",
    "ax.grid(False)\n",
    "\n",
    "mpl_functions.adjust_spines(ax,['left', 'bottom'],\n",
    "                           spine_locations={'left': 5, 'bottom': 6}, \n",
    "                           smart_bounds=True,\n",
    "                           yticks=[-10,25],\n",
    "                           xticks=xlimTs,\n",
    "                           linewidth=0.5)\n",
    "\n",
    "figurefirst.mpl_functions.set_fontsize(ax, FS)\n",
    "layout.append_figure_to_layer(layout.figures['fig2'], 'fig2', cleartarget=True)\n",
    "layout.write_svg('../svgs/S1.svg')"
   ]
  },
  {
   "cell_type": "code",
   "execution_count": 19,
   "metadata": {},
   "outputs": [],
   "source": [
    "ax=layout.axes[('fig2','ax6')]\n",
    "ax.plot(df_test.time, df_test.ar2_output, linewidth=0.5,c='black', rasterized=True)\n",
    "ax.set_rasterization_zorder(-20)\n",
    "ax.set_xticklabels([])\n",
    "ax.set_xlabel('0.5 s')\n",
    "ax.xaxis.set_label_coords(0.5, -0.2)\n",
    "ax.set_ylim(-10,20)\n",
    "ax.set_xlim(xlimTs)\n",
    "ax.grid(False)\n",
    "\n",
    "mpl_functions.adjust_spines(ax,['left', 'bottom'],\n",
    "                           spine_locations={'left': 5, 'bottom': 6}, \n",
    "                           smart_bounds=True,\n",
    "                           yticks=[-10,0,10,25],\n",
    "                           xticks=xlimTs,\n",
    "                           linewidth=0.5)\n",
    "\n",
    "figurefirst.mpl_functions.set_fontsize(ax, FS)\n",
    "layout.append_figure_to_layer(layout.figures['fig2'], 'fig2', cleartarget=True)\n",
    "layout.write_svg('../svgs/S1.svg')"
   ]
  },
  {
   "cell_type": "code",
   "execution_count": 20,
   "metadata": {},
   "outputs": [],
   "source": [
    "ax=layout.axes[('fig2','ax7')]\n",
    "ax.plot(df_test.time, df_test.predicted_odor, linewidth=0.5,c='black', rasterized=True)\n",
    "ax.axhline(4.5, color='r', linestyle='--', linewidth= 0.5, rasterized=True)\n",
    "ax.set_rasterization_zorder(-20)\n",
    "ax.set_xticklabels([])\n",
    "ax.set_xlabel('0.5 s')\n",
    "ax.xaxis.set_label_coords(0.5, -0.2)\n",
    "\n",
    "ax.set_xlim(xlimTs)\n",
    "ax.grid(False)\n",
    "mpl_functions.adjust_spines(ax,['left','bottom'],\n",
    "                           spine_locations={'left': 5, 'bottom': 6}, \n",
    "                           smart_bounds=True,\n",
    "                           yticks=[-10,0,10,25],\n",
    "                           xticks=xlimTs,\n",
    "                           linewidth=0.5)\n",
    "\n",
    "figurefirst.mpl_functions.set_fontsize(ax, FS)\n",
    "layout.append_figure_to_layer(layout.figures['fig2'], 'fig2', cleartarget=True)\n",
    "layout.write_svg('../svgs/S1.svg')"
   ]
  },
  {
   "cell_type": "code",
   "execution_count": null,
   "metadata": {},
   "outputs": [],
   "source": []
  },
  {
   "cell_type": "code",
   "execution_count": null,
   "metadata": {},
   "outputs": [],
   "source": []
  }
 ],
 "metadata": {
  "kernelspec": {
   "display_name": "vscode38kernel",
   "language": "python",
   "name": "pywork38"
  },
  "language_info": {
   "codemirror_mode": {
    "name": "ipython",
    "version": 3
   },
   "file_extension": ".py",
   "mimetype": "text/x-python",
   "name": "python",
   "nbconvert_exporter": "python",
   "pygments_lexer": "ipython3",
   "version": "3.8.10"
  }
 },
 "nbformat": 4,
 "nbformat_minor": 2
}
