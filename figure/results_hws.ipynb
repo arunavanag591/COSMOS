{
 "cells": [
  {
   "cell_type": "code",
   "execution_count": 2,
   "metadata": {},
   "outputs": [],
   "source": [
    "#dataframes\n",
    "import pandas as pd\n",
    "import h5py\n",
    "\n",
    "#speedup\n",
    "import multiprocessing as mp\n",
    "\n",
    "#suppress warnings\n",
    "import warnings\n",
    "warnings.simplefilter(action='ignore', category=FutureWarning)\n",
    "pd.TimeSeries = pd.Series \n",
    "\n",
    "#math\n",
    "import numpy as np\n",
    "import math as m\n",
    "from scipy.spatial.distance import cdist\n",
    "from scipy import signal\n",
    "\n",
    "#plots\n",
    "import pylab as plt\n",
    "import matplotlib.pyplot as plt\n",
    "from matplotlib.ticker import MaxNLocator\n",
    "from matplotlib import colors\n",
    "import matplotlib\n",
    "from figurefirst import FigureLayout,mpl_functions\n",
    "import figurefirst\n",
    "import matplotlib.image as mpimg\n",
    "from mpl_toolkits.axes_grid1 import make_axes_locatable # for colorbar\n",
    "import seaborn as sns\n",
    "sns.set()\n",
    "sns.set_style(\"whitegrid\")\n",
    "import figurefirst as fifi\n",
    "from IPython.display import display,SVG\n",
    "\n",
    "#misc\n",
    "\n",
    "import time\n",
    "np.set_printoptions(suppress=True)\n",
    "import fly_plot_lib.plot as fpl\n",
    "FS=7\n"
   ]
  },
  {
   "cell_type": "code",
   "execution_count": 16,
   "metadata": {},
   "outputs": [],
   "source": [
    "def load():\n",
    "    layout = fifi.svg_to_axes.FigureLayout('../../Figure2/results_hws.svg', autogenlayers=True, make_mplfigures=True, hide_layers=[])\n",
    "    return layout"
   ]
  },
  {
   "cell_type": "code",
   "execution_count": 6,
   "metadata": {},
   "outputs": [],
   "source": [
    "df_test = pd.read_hdf('../../data/simulator/figure/hws.h5')\n",
    "fdf1 = pd.read_hdf('../../data/simulator/figure/odor_stat.h5')\n",
    "fdf_predicted = pd.read_hdf('../../data/simulator/figure/odor_pr_stat.h5')"
   ]
  },
  {
   "cell_type": "code",
   "execution_count": 8,
   "metadata": {},
   "outputs": [],
   "source": [
    "dirname = '../../data/simulator/hws/'\n",
    "hmap_data = np.load(str(dirname) + \"hmap_with_edges.npz\")\n",
    "    \n",
    "fitted_p_heatmap=hmap_data['fitted_p_heatmap']\n",
    "xedges=hmap_data['xedges']\n",
    "yedges=hmap_data['yedges']\n"
   ]
  },
  {
   "cell_type": "markdown",
   "metadata": {},
   "source": [
    "Fig1"
   ]
  },
  {
   "cell_type": "code",
   "execution_count": 101,
   "metadata": {},
   "outputs": [],
   "source": [
    "ax=layout.axes[('fig1','ax')]\n",
    "cax = ax.imshow(\n",
    "    fitted_p_heatmap.T,\n",
    "    origin='lower',\n",
    "    extent=[xedges[0], xedges[-1], yedges[0], yedges[-1]],\n",
    "    cmap='Blues', vmin=0, vmax=0.01, rasterized=True,\n",
    ")\n",
    "ax.set_rasterization_zorder(-20)\n",
    "\n",
    "# ax.set_xlabel('Distance along Streakline, m')\n",
    "# ax.xaxis.set_label_coords(0.5, -0.1)\n",
    "ax.set_ylabel('Nearest from\\nstreakline, m')\n",
    "ax.yaxis.set_label_coords(-0.1, 0.5)\n",
    "ax.ticklabel_format(useOffset=False)\n",
    "\n",
    "# ax.set_ylim(-40,50)\n",
    "ax.grid(False)\n",
    "mpl_functions.adjust_spines(ax,['left'],\n",
    "                           spine_locations={'left': 5, 'bottom': 5}, \n",
    "                           smart_bounds=True,\n",
    "                           yticks=[-25,25],\n",
    "                           xticks=[0,55],\n",
    "                           linewidth=0.5)\n",
    "\n",
    "figurefirst.mpl_functions.set_fontsize(ax, FS)\n",
    "layout.append_figure_to_layer(layout.figures['fig1'], 'fig1', cleartarget=True)\n",
    "layout.write_svg('../../Figure2/results_hws.svg')"
   ]
  },
  {
   "cell_type": "code",
   "execution_count": 102,
   "metadata": {},
   "outputs": [],
   "source": [
    "ax = layout.axes[('fig1', 'cbar1')]\n",
    "ytic=[0,10]\n",
    "\n",
    "fpl.colorbar(ax=ax, colormap='Blues', orientation='vertical',ticks=ytic)\n",
    "ax.set_rasterization_zorder(-20)\n",
    "mpl_functions.adjust_spines(ax, ['right'], \n",
    "                                    smart_bounds=True,\n",
    "                                    spine_locations={'right': 2}, \n",
    "                                    yticks=ytic,\n",
    "                                    tick_length=1.5,\n",
    "                                    linewidth=0.5)\n",
    "\n",
    "ax.set_ylabel(\"$P(Whiff Onset)$\",rotation=90, labelpad=-20)\n",
    "\n",
    "ax.set_yticklabels(['0', '0.01'])\n",
    "figurefirst.mpl_functions.set_fontsize(ax, FS)\n",
    "\n",
    "layout.append_figure_to_layer(layout.figures['fig1'], 'fig1', cleartarget=True)\n",
    "layout.write_svg('../../Figure2/results_hws.svg')"
   ]
  },
  {
   "cell_type": "markdown",
   "metadata": {},
   "source": [
    "Fig2"
   ]
  },
  {
   "cell_type": "code",
   "execution_count": 103,
   "metadata": {},
   "outputs": [],
   "source": [
    "th=4.5\n",
    "query1 = 'odor>4.5'\n",
    "new_test_df1=pd.DataFrame()\n",
    "new_test_df1 = df_test.query(query1)\n",
    "new_test_df1.reset_index(inplace=True, drop=True)\n",
    "\n",
    "query2 = 'predicted_odor>4.5'\n",
    "new_test_df2=pd.DataFrame()\n",
    "new_test_df2 = df_test.query(query2)\n",
    "new_test_df2.reset_index(inplace=True, drop=True)"
   ]
  },
  {
   "cell_type": "code",
   "execution_count": 104,
   "metadata": {},
   "outputs": [],
   "source": [
    "ax=layout.axes[('fig1','ax1')]\n",
    "cax1 = ax.scatter(new_test_df1.distance_along_streakline, new_test_df1.nearest_from_streakline, c=new_test_df1.odor, s = 4, cmap='Blues', vmin=0, vmax=10, rasterized=True)\n",
    "ax.set_rasterization_zorder(-20)\n",
    "\n",
    "ax.set_ylabel('Nearest from\\nstreakline, m')\n",
    "ax.yaxis.set_label_coords(-0.1, 0.5)\n",
    "ax.ticklabel_format(useOffset=False)\n",
    "\n",
    "ax.grid(False)\n",
    "mpl_functions.adjust_spines(ax,['left'],\n",
    "                           spine_locations={'left': 5, 'bottom': 5}, \n",
    "                           smart_bounds=True,\n",
    "                           yticks=[-25,25],\n",
    "                           xticks=[0,55],\n",
    "                           linewidth=0.5)\n",
    "\n",
    "figurefirst.mpl_functions.set_fontsize(ax, FS)\n",
    "layout.append_figure_to_layer(layout.figures['fig1'], 'fig1', cleartarget=True)\n",
    "layout.write_svg('../../Figure2/results_hws.svg')"
   ]
  },
  {
   "cell_type": "code",
   "execution_count": 105,
   "metadata": {},
   "outputs": [],
   "source": [
    "ax = layout.axes[('fig1', 'cbar2')]\n",
    "ytic=[4.5,10]\n",
    "\n",
    "fpl.colorbar(ax=ax, colormap='Blues', orientation='vertical',ticks=ytic)\n",
    "ax.set_rasterization_zorder(-20)\n",
    "mpl_functions.adjust_spines(ax, ['right'], \n",
    "                                    smart_bounds=True,\n",
    "                                    spine_locations={'right': 2}, \n",
    "                                    yticks=ytic,\n",
    "                                    tick_length=1.5,\n",
    "                                    linewidth=0.5)\n",
    "\n",
    "ax.set_ylabel(\"odor, a.u\",rotation=90, labelpad=-20)\n",
    "\n",
    "ax.set_yticklabels(['4.5', '10'])\n",
    "figurefirst.mpl_functions.set_fontsize(ax, FS)\n",
    "\n",
    "layout.append_figure_to_layer(layout.figures['fig1'], 'fig1', cleartarget=True)\n",
    "layout.write_svg('../../Figure2/results_hws.svg')"
   ]
  },
  {
   "cell_type": "markdown",
   "metadata": {},
   "source": [
    "Fig3"
   ]
  },
  {
   "cell_type": "code",
   "execution_count": 106,
   "metadata": {},
   "outputs": [],
   "source": [
    "ax=layout.axes[('fig1','ax2')]\n",
    "cax1 = ax.scatter(new_test_df2.distance_along_streakline, new_test_df2.nearest_from_streakline, c=new_test_df2.predicted_odor, s = 4, cmap='Blues', vmin=0, vmax=10, rasterized=True)\n",
    "ax.set_rasterization_zorder(-20)\n",
    "\n",
    "ax.set_xlabel('Distance along\\nstreakline, m')\n",
    "ax.xaxis.set_label_coords(0.5, -0.1)\n",
    "ax.set_ylabel('Nearest from\\nstreakline, m')\n",
    "ax.yaxis.set_label_coords(-0.1, 0.5)\n",
    "\n",
    "ax.grid(False)\n",
    "mpl_functions.adjust_spines(ax,['left','bottom'],\n",
    "                           spine_locations={'left': 5, 'bottom': 5}, \n",
    "                           smart_bounds=True,\n",
    "                           yticks=[-25,25],\n",
    "                           xticks=[0,55],\n",
    "                           linewidth=0.5)\n",
    "\n",
    "figurefirst.mpl_functions.set_fontsize(ax, FS)\n",
    "layout.append_figure_to_layer(layout.figures['fig1'], 'fig1', cleartarget=True)\n",
    "layout.write_svg('../../Figure2/results_hws.svg')"
   ]
  },
  {
   "cell_type": "code",
   "execution_count": 107,
   "metadata": {},
   "outputs": [],
   "source": [
    "ax = layout.axes[('fig1', 'cbar3')]\n",
    "ytic=[4.5,10]\n",
    "\n",
    "fpl.colorbar(ax=ax, colormap='Blues', orientation='vertical',ticks=ytic)\n",
    "ax.set_rasterization_zorder(-20)\n",
    "mpl_functions.adjust_spines(ax, ['right'], \n",
    "                                    smart_bounds=True,\n",
    "                                    spine_locations={'right': 2}, \n",
    "                                    yticks=ytic,\n",
    "                                    tick_length=1.5,\n",
    "                                    linewidth=0.5)\n",
    "\n",
    "ax.set_ylabel(\"odor$_{pr}$, a.u\",rotation=90, labelpad=-20)\n",
    "ax.set_yticklabels(['4.5', '10'])\n",
    "figurefirst.mpl_functions.set_fontsize(ax, FS)\n",
    "\n",
    "layout.append_figure_to_layer(layout.figures['fig1'], 'fig1', cleartarget=True)\n",
    "layout.write_svg('../../Figure2/results_hws.svg')"
   ]
  },
  {
   "cell_type": "code",
   "execution_count": 112,
   "metadata": {},
   "outputs": [
    {
     "data": {
      "image/png": "[encoded data removed]",
      "text/plain": [
       "<Figure size 826.772x1169.29 with 4 Axes>"
      ]
     },
     "metadata": {},
     "output_type": "display_data"
    },
    {
     "data": {
      "image/png": "[encoded data removed]",
      "text/plain": [
       "<Figure size 826.772x1169.29 with 5 Axes>"
      ]
     },
     "metadata": {},
     "output_type": "display_data"
    },
    {
     "data": {
      "image/png": "[encoded data removed]",
      "text/plain": [
       "<Figure size 826.772x1169.29 with 5 Axes>"
      ]
     },
     "metadata": {},
     "output_type": "display_data"
    },
    {
     "data": {
      "image/png": "[encoded data removed]",
      "text/plain": [
       "<Figure size 826.772x1169.29 with 6 Axes>"
      ]
     },
     "metadata": {},
     "output_type": "display_data"
    }
   ],
   "source": [
    "layout=load()"
   ]
  },
  {
   "cell_type": "markdown",
   "metadata": {},
   "source": [
    "Fig4"
   ]
  },
  {
   "cell_type": "code",
   "execution_count": 113,
   "metadata": {},
   "outputs": [],
   "source": [
    "ax=layout.axes[('fig2','ax3')]\n",
    "ax.plot(df_test.time, df_test.odor, rasterized=True)\n",
    "ax.set_rasterization_zorder(-20)\n",
    "\n",
    "ax.set_ylabel('od, a.u.')\n",
    "ax.yaxis.set_label_coords(-0.05, 0.5)\n",
    "ax.set_xlim(560,565)\n",
    "ax.grid(False)\n",
    "mpl_functions.adjust_spines(ax,['left'],\n",
    "                           spine_locations={'left': 5, 'bottom': 5}, \n",
    "                           smart_bounds=True,\n",
    "                           yticks=[0,10],\n",
    "                           xticks=[560,565],\n",
    "                           linewidth=0.5)\n",
    "\n",
    "figurefirst.mpl_functions.set_fontsize(ax, FS)\n",
    "layout.append_figure_to_layer(layout.figures['fig2'], 'fig2', cleartarget=True)\n",
    "layout.write_svg('../../Figure2/results_hws.svg')"
   ]
  },
  {
   "cell_type": "code",
   "execution_count": 114,
   "metadata": {},
   "outputs": [],
   "source": [
    "ax=layout.axes[('fig2','ax3_1')]\n",
    "ax.plot(df_test.time, df_test.predicted_odor, rasterized=True)\n",
    "ax.set_rasterization_zorder(-20)\n",
    "\n",
    "ax.set_xlabel('time, s')\n",
    "ax.xaxis.set_label_coords(0.5, -0.1)\n",
    "ax.set_ylabel('od$_{pr}$, a.u.')\n",
    "ax.yaxis.set_label_coords(-0.05, 0.5)\n",
    "ax.set_xlim(560,565)\n",
    "ax.grid(False)\n",
    "mpl_functions.adjust_spines(ax,['left','bottom'],\n",
    "                           spine_locations={'left': 5, 'bottom': 5}, \n",
    "                           smart_bounds=True,\n",
    "                           yticks=[0,10],\n",
    "                           xticks=[560,565],\n",
    "                           linewidth=0.5)\n",
    "\n",
    "figurefirst.mpl_functions.set_fontsize(ax, FS)\n",
    "layout.append_figure_to_layer(layout.figures['fig2'], 'fig2', cleartarget=True)\n",
    "layout.write_svg('../../Figure2/results_hws.svg')"
   ]
  },
  {
   "cell_type": "markdown",
   "metadata": {},
   "source": [
    "Fig5"
   ]
  },
  {
   "cell_type": "code",
   "execution_count": 115,
   "metadata": {},
   "outputs": [],
   "source": [
    "n_bins = 20\n",
    "ylim = (0,12000)\n",
    "# Actual Whiff Data\n",
    "df_actual = new_test_df1.copy()\n",
    "bins = np.linspace(0, df_actual['distance_from_source'].max(), n_bins + 1)\n",
    "df_actual['distance_bin'] = pd.cut(df_actual['distance_from_source'], bins=bins)\n",
    "\n",
    "whiff_counts_actual = df_actual.groupby('distance_bin').size()\n",
    "mean_concentrations_actual = df_actual.groupby('distance_bin')['odor'].mean()\n",
    "bin_centers_actual = (bins[:-1] + bins[1:]) / 2\n",
    "\n",
    "# Predicted Whiff Data\n",
    "df_predicted = new_test_df2.copy()\n",
    "bins_predicted = np.linspace(0, df_predicted['distance_from_source'].max(), n_bins + 1)\n",
    "df_predicted['distance_bin'] = pd.cut(df_predicted['distance_from_source'], bins=bins_predicted)\n",
    "\n",
    "whiff_counts_predicted = df_predicted.groupby('distance_bin').size()\n",
    "mean_concentrations_predicted = df_predicted.groupby('distance_bin')['predicted_odor'].mean()\n",
    "bin_centers_predicted = (bins_predicted[:-1] + bins_predicted[1:]) / 2"
   ]
  },
  {
   "cell_type": "code",
   "execution_count": 118,
   "metadata": {},
   "outputs": [],
   "source": [
    "ax=layout.axes[('fig2','ax4')]\n",
    "norm_actual = plt.Normalize(4, 10)\n",
    "colors_actual = plt.cm.viridis(norm_actual(mean_concentrations_actual))\n",
    "ax.bar(bin_centers_actual, whiff_counts_actual, width=(bins[1] - bins[0]), edgecolor='black', color=colors_actual, rasterized= True)\n",
    "ax.set_rasterization_zorder(-20)\n",
    "ax.set_ylabel('Whiff Count')\n",
    "ax.yaxis.set_label_coords(-0.05, 0.5)\n",
    "\n",
    "ax.grid(False)\n",
    "mpl_functions.adjust_spines(ax,['left'],\n",
    "                           spine_locations={'left': 5, 'bottom': 5}, \n",
    "                           smart_bounds=True,\n",
    "                           yticks=[0,12000],\n",
    "                           xticks=[0,50],\n",
    "                           linewidth=0.5)\n",
    "\n",
    "figurefirst.mpl_functions.set_fontsize(ax, FS)\n",
    "layout.append_figure_to_layer(layout.figures['fig2'], 'fig2', cleartarget=True)\n",
    "layout.write_svg('../../Figure2/results_hws.svg')"
   ]
  },
  {
   "cell_type": "code",
   "execution_count": 119,
   "metadata": {},
   "outputs": [],
   "source": [
    "ax=layout.axes[('fig2','ax5')]\n",
    "norm_predicted = plt.Normalize(4, 10)\n",
    "colors_predicted = plt.cm.viridis(norm_predicted(mean_concentrations_predicted))\n",
    "ax.bar(bin_centers_predicted, whiff_counts_predicted, width=(bins_predicted[1] - bins_predicted[0]), edgecolor='black', color=colors_predicted, rasterized=True)\n",
    "ax.set_rasterization_zorder(-20)\n",
    "\n",
    "ax.set_xlabel('Distance from source, m')\n",
    "ax.xaxis.set_label_coords(0.5, -0.1)\n",
    "\n",
    "ax.set_ylabel('Whiff Count')\n",
    "ax.yaxis.set_label_coords(-0.05, 0.5)\n",
    "\n",
    "ax.grid(False)\n",
    "mpl_functions.adjust_spines(ax,['left','bottom'],\n",
    "                           spine_locations={'left': 5, 'bottom': 5}, \n",
    "                           smart_bounds=True,\n",
    "                           yticks=[0,12000],\n",
    "                           xticks=[0,50],\n",
    "                           linewidth=0.5)\n",
    "\n",
    "figurefirst.mpl_functions.set_fontsize(ax, FS)\n",
    "layout.append_figure_to_layer(layout.figures['fig2'], 'fig2', cleartarget=True)\n",
    "layout.write_svg('../../Figure2/results_hws.svg')"
   ]
  },
  {
   "cell_type": "code",
   "execution_count": null,
   "metadata": {},
   "outputs": [],
   "source": []
  }
 ],
 "metadata": {
  "kernelspec": {
   "display_name": "vscode38kernel",
   "language": "python",
   "name": "pywork38"
  },
  "language_info": {
   "codemirror_mode": {
    "name": "ipython",
    "version": 3
   },
   "file_extension": ".py",
   "mimetype": "text/x-python",
   "name": "python",
   "nbconvert_exporter": "python",
   "pygments_lexer": "ipython3",
   "version": "3.8.10"
  }
 },
 "nbformat": 4,
 "nbformat_minor": 2
}
