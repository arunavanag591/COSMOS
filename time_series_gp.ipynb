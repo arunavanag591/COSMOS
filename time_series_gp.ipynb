{
 "cells": [
  {
   "cell_type": "code",
   "execution_count": 85,
   "metadata": {},
   "outputs": [],
   "source": [
    "import torch\n",
    "import torch.nn as nn\n",
    "import torch.optim as optim\n",
    "import gpytorch\n",
    "import pandas as pd\n",
    "import os\n",
    "from sklearn.preprocessing import MinMaxScaler\n",
    "import numpy as np\n",
    "\n",
    "import matplotlib.pyplot as plt\n",
    "from figurefirst import mpl_functions\n",
    "from mpl_toolkits.axes_grid1 import make_axes_locatable \n",
    "import odor_stat_calculations as osc\n",
    "\n"
   ]
  },
  {
   "cell_type": "markdown",
   "metadata": {},
   "source": [
    "### Gaussian Processes"
   ]
  },
  {
   "cell_type": "code",
   "execution_count": 95,
   "metadata": {},
   "outputs": [],
   "source": [
    "# Define the GP Model\n",
    "class ExactGPModel(gpytorch.models.ExactGP):\n",
    "    def __init__(self, train_x, train_y, likelihood):\n",
    "        super(ExactGPModel, self).__init__(train_x, train_y, likelihood)\n",
    "        self.mean_module = gpytorch.means.ConstantMean()\n",
    "        self.covar_module = gpytorch.kernels.ScaleKernel(gpytorch.kernels.RBFKernel())\n",
    "\n",
    "    def forward(self, x):\n",
    "        mean_x = self.mean_module(x)\n",
    "        covar_x = self.covar_module(x)\n",
    "        return gpytorch.distributions.MultivariateNormal(mean_x, covar_x)\n",
    "\n",
    "def load_and_preprocess_file(file_path, features, target):\n",
    "    df = pd.read_hdf(file_path)\n",
    "    scaler = MinMaxScaler()\n",
    "    df[features] = scaler.fit_transform(df[features])\n",
    "    feature_tensors = torch.Tensor(df[features].values)\n",
    "    target_tensors = torch.Tensor(df[target].values)\n",
    "    return feature_tensors, target_tensors\n",
    "\n",
    "def create_sequences(feature_tensors, target_tensors, seq_length):\n",
    "    sequences = []\n",
    "    targets = []\n",
    "    for i in range(len(feature_tensors) - seq_length):\n",
    "        sequences.append(feature_tensors[i:i+seq_length])\n",
    "        targets.append(target_tensors[i+seq_length])\n",
    "    return torch.stack(sequences), torch.stack(targets)\n",
    "\n",
    "\n",
    "def predict_on_new_data(model, likelihood, new_data_path, features, target):\n",
    "    # Load and preprocess the new data\n",
    "    feature_tensors, _ = load_and_preprocess_file(new_data_path, features, target)\n",
    "\n",
    "    # Move the tensors to the same device as the model\n",
    "    device = next(model.parameters()).device\n",
    "    feature_tensors = feature_tensors.to(device)\n",
    "\n",
    "    # Make predictions\n",
    "    model.eval()\n",
    "    likelihood.eval()\n",
    "    with torch.no_grad(), gpytorch.settings.fast_pred_var():\n",
    "        observed_pred = likelihood(model(feature_tensors))\n",
    "    return observed_pred.mean.cpu().numpy()\n",
    "\n",
    "\n",
    "device = torch.device('cuda' if torch.cuda.is_available() else 'cpu')\n"
   ]
  },
  {
   "cell_type": "code",
   "execution_count": 80,
   "metadata": {},
   "outputs": [
    {
     "name": "stdout",
     "output_type": "stream",
     "text": [
      "Epoch [200/300], File: diag1.h5, Loss: 0.46509185433387756\n",
      "Epoch [200/300], File: diag2.h5, Loss: 1.0624449253082275\n",
      "Epoch [200/300], File: diag3.h5, Loss: 0.9025423526763916\n",
      "Epoch [200/300], File: diag4.h5, Loss: 0.04309486225247383\n",
      "Epoch [200/300], File: diag5.h5, Loss: 0.7766801714897156\n",
      "Epoch [200/300], File: diag6.h5, Loss: 0.6486952900886536\n",
      "Epoch [200/300], File: diag7.h5, Loss: 0.6006244421005249\n",
      "Epoch [200/300], File: diag8.h5, Loss: 0.9743479490280151\n",
      "Epoch [200/300], File: diag9.h5, Loss: 0.2766262888908386\n",
      "Epoch [200/300], File: diag10.h5, Loss: 0.9816932678222656\n",
      "Epoch [200/300], File: diag11.h5, Loss: 0.3866584002971649\n",
      "Epoch [200/300], File: diag12.h5, Loss: 1.0021589994430542\n",
      "Epoch [200/300], File: diag13.h5, Loss: 0.7163152098655701\n",
      "Epoch [200/300], File: diag14.h5, Loss: 0.9381450414657593\n",
      "Epoch [200/300], File: diag15.h5, Loss: 0.7268362641334534\n",
      "Epoch [200/300], File: diag16.h5, Loss: 0.8550992608070374\n",
      "Epoch [200/300], File: diag17.h5, Loss: 0.6676015257835388\n",
      "Epoch [200/300], File: diag18.h5, Loss: 0.647135317325592\n",
      "Epoch [200/300], File: diag19.h5, Loss: 0.5025408864021301\n",
      "Epoch [200/300], File: diag20.h5, Loss: 0.7433741688728333\n",
      "Epoch [200/300], File: diag21.h5, Loss: 0.9861767888069153\n",
      "Epoch [200/300], File: diag22.h5, Loss: 0.6560476422309875\n",
      "Epoch [200/300], File: diag23.h5, Loss: 0.6251707077026367\n",
      "Epoch [200/300], File: diag24.h5, Loss: 0.9384031295776367\n",
      "Epoch [200/300], File: diag25.h5, Loss: 0.4311226010322571\n",
      "Epoch [200/300], File: diag26.h5, Loss: 0.4950786828994751\n",
      "Epoch [200/300], File: diag27.h5, Loss: 1.0399792194366455\n",
      "Epoch [200/300], File: diag28.h5, Loss: 0.6619646549224854\n",
      "Epoch [200/300], File: diag29.h5, Loss: 0.9606876969337463\n",
      "Epoch [200/300], File: diag30.h5, Loss: 0.8721478581428528\n",
      "Epoch [200/300], File: diag31.h5, Loss: 0.5951374173164368\n",
      "Epoch [200/300], File: diag32.h5, Loss: 0.5620357990264893\n",
      "Epoch [200/300], File: diag33.h5, Loss: 0.35405686497688293\n",
      "Epoch [200/300], File: diag34.h5, Loss: 0.6171300411224365\n",
      "Epoch [200/300], File: diag35.h5, Loss: 0.9249438047409058\n",
      "Epoch [200/300], File: diag36.h5, Loss: 0.6427221894264221\n",
      "Epoch [200/300], File: diag37.h5, Loss: 0.38720622658729553\n",
      "Epoch [200/300], File: diag38.h5, Loss: 0.6519423127174377\n",
      "Epoch [200/300], File: diag39.h5, Loss: 0.6064921617507935\n",
      "Epoch [200/300], File: diag40.h5, Loss: 0.7379361987113953\n",
      "Epoch [200/300], File: diag41.h5, Loss: 0.9326861500740051\n",
      "Epoch [200/300], File: diag42.h5, Loss: 0.7199715375900269\n",
      "Epoch [200/300], File: diag43.h5, Loss: 0.31975653767585754\n",
      "Epoch [200/300], File: diag44.h5, Loss: 0.761282205581665\n",
      "Epoch [200/300], File: diag45.h5, Loss: 0.5308880805969238\n",
      "Epoch [200/300], File: diag46.h5, Loss: 0.43262621760368347\n",
      "Epoch [200/300], File: diag47.h5, Loss: 1.001363754272461\n",
      "Epoch [200/300], File: diag48.h5, Loss: 1.1222586631774902\n",
      "Epoch [200/300], File: diag49.h5, Loss: 0.47870075702667236\n",
      "Epoch [200/300], File: diag50.h5, Loss: 1.1785913705825806\n"
     ]
    }
   ],
   "source": [
    "features = ['distance_along_streakline', 'nearest_from_streakline']\n",
    "target = ['odor']\n",
    "folder_path = \"/home/beast/An/data/train_new_axis/\"\n",
    "\n",
    "all_filenames = [filename for filename in os.listdir(folder_path) if filename.startswith(\"diag\") and filename.endswith(\".h5\")]\n",
    "sorted_filenames = sorted(all_filenames, key=lambda x: int(x[4:-3]))\n",
    "\n",
    "# Initialize the GP model and likelihood\n",
    "likelihood = gpytorch.likelihoods.GaussianLikelihood()\n",
    "\n",
    "training_iterations = 300\n",
    "\n",
    "# Iterate over files\n",
    "for file in sorted_filenames:\n",
    "    file_path = os.path.join(folder_path, file)\n",
    "    \n",
    "    # Load and preprocess the data from the current file\n",
    "    train_x, train_y = load_and_preprocess_file(file_path, features, target)\n",
    "    train_y = train_y.squeeze()\n",
    "    train_x = train_x.to(device)\n",
    "    train_y = train_y.to(device)\n",
    "\n",
    "    \n",
    "    # Define a new GP model using the data from the current file\n",
    "    model = ExactGPModel(train_x, train_y, likelihood).to(device)\n",
    "    model.train()\n",
    "    likelihood.train()\n",
    "    \n",
    "    # Initialize the optimizer here, after the model is defined\n",
    "    optimizer = torch.optim.Adam([{'params': model.parameters()},], lr=0.1)\n",
    "    \n",
    "    # \"Loss\" for GPs - the marginal log likelihood\n",
    "    mll = gpytorch.mlls.ExactMarginalLogLikelihood(likelihood, model)\n",
    "\n",
    "\n",
    "    for i in range(training_iterations):\n",
    "        optimizer.zero_grad()\n",
    "        output = model(train_x)\n",
    "        loss = -mll(output, train_y)\n",
    "        loss.backward()\n",
    "        optimizer.step()\n",
    "\n",
    "        if (i + 1) % 200 == 0:  \n",
    "            print(f'Epoch [{i + 1}/{training_iterations}], File: {file}, Loss: {loss.item()}')\n"
   ]
  },
  {
   "cell_type": "code",
   "execution_count": 81,
   "metadata": {},
   "outputs": [],
   "source": [
    "new_data_path = \"/home/beast/An/data/train_new_axis/diag10.h5\"\n",
    "predictions = predict_on_new_data(model, likelihood, new_data_path, features, target)\n",
    "\n",
    "# Append predictions to the original data\n",
    "test = pd.read_hdf(new_data_path)\n",
    "test['predicted_odor'] = np.pad(predictions, (0, len(test)-len(predictions)), mode='constant')\n"
   ]
  },
  {
   "cell_type": "code",
   "execution_count": 82,
   "metadata": {},
   "outputs": [
    {
     "data": {
      "text/plain": [
       "Text(0.5, 1.0, '300ep/timeseries')"
      ]
     },
     "execution_count": 82,
     "metadata": {},
     "output_type": "execute_result"
    },
    {
     "data": {
      "image/png": "[encoded data removed]",
      "text/plain": [
       "<Figure size 500x400 with 1 Axes>"
      ]
     },
     "metadata": {},
     "output_type": "display_data"
    }
   ],
   "source": [
    "f,ax=plt.subplots(1,1,figsize=(5,4))\n",
    "ax.plot(test.odor, label='unscaled odor, a.u.')\n",
    "ax.plot(test.predicted_odor, alpha=0.8,label='predicted odor')\n",
    "ax.set_ylabel('odor, a.u.')\n",
    "ax.set_xlabel('samples')\n",
    "ax.legend()\n",
    "ax.set_title('300ep/timeseries')\n",
    "# mpl_functions.set_fontsize(f, 15)\n",
    "# f.savefig('../assets/300_ensemble_full.jpeg', dpi=150, bbox_inches = \"tight\")"
   ]
  },
  {
   "cell_type": "code",
   "execution_count": 60,
   "metadata": {},
   "outputs": [],
   "source": [
    "# test['scaled_odor']=scale_data(test.odor)\n",
    "query='odor>1'\n",
    "df = test.query(query)\n",
    "df.reset_index(drop=True, inplace=True)\n",
    "\n",
    "query1='predicted_odor>1'\n",
    "df1 = test.query(query1)\n",
    "df1.reset_index(drop=True, inplace=True)\n"
   ]
  },
  {
   "cell_type": "code",
   "execution_count": 62,
   "metadata": {},
   "outputs": [
    {
     "data": {
      "image/png": "[encoded data removed]",
      "text/plain": [
       "<Figure size 1000x400 with 4 Axes>"
      ]
     },
     "metadata": {},
     "output_type": "display_data"
    }
   ],
   "source": [
    "f,(ax1,ax2)=plt.subplots(1,2,figsize=(10,4))\n",
    "v = ax1.scatter(df.distance_along_streakline, df.nearest_from_streakline, c=df.odor, \n",
    "             s=10, cmap='inferno', vmin=0,vmax=10)\n",
    "\n",
    "ax1.set_title('Odor Th > 1 a.u.')\n",
    "ax1.set_ylabel('Distance from source, m')\n",
    "ax1.set_xlabel('Distance along streakline, m')\n",
    "divider = make_axes_locatable(ax1)\n",
    "cax = divider.append_axes('right', size='5%', pad=0.08)\n",
    "cbar=f.colorbar(v, cax=cax, orientation = 'vertical')\n",
    "cbar.solids.set(alpha=1)\n",
    "cbar.set_label('$\\mu$(WC), a.u.')\n",
    "\n",
    "w = ax2.scatter(df1.distance_along_streakline, df1.nearest_from_streakline, c=df1.predicted_odor, \n",
    "             s=10, cmap='inferno', vmin=0,vmax=10)\n",
    "\n",
    "ax2.set_title('Predicted Odr')\n",
    "# ax2.set_ylabel('Distance from source, m')\n",
    "ax2.set_xlabel('Distance along streakline, m')\n",
    "divider = make_axes_locatable(ax2)\n",
    "cax = divider.append_axes('right', size='5%', pad=0.08)\n",
    "cbar=f.colorbar(w, cax=cax, orientation = 'vertical')\n",
    "cbar.solids.set(alpha=1)\n",
    "cbar.set_label('$\\mu$(WC), a.u.')\n",
    "\n",
    "f.tight_layout(pad=1)\n",
    "mpl_functions.set_fontsize(f, 12)"
   ]
  },
  {
   "cell_type": "code",
   "execution_count": 57,
   "metadata": {},
   "outputs": [],
   "source": [
    "test['scaled_odor']=osc.scale_data(test.odor)\n",
    "\n",
    "osc.get_time_col(test,0.3)\n",
    "# osc.calculate_distance_from_source(test)"
   ]
  },
  {
   "cell_type": "code",
   "execution_count": 58,
   "metadata": {},
   "outputs": [
    {
     "data": {
      "text/plain": [
       "Index(['avg_dist_from_source', 'log_avg_dist_from_source',\n",
       "       'length_of_encounter', 'odor_intermittency', 'log_whiff', 'log_blank',\n",
       "       'mean_concentration'],\n",
       "      dtype='object')"
      ]
     },
     "execution_count": 58,
     "metadata": {},
     "output_type": "execute_result"
    }
   ],
   "source": [
    "def cal_stat(df,index, index_predicted,fdf, fdf_predicted):\n",
    "    osc.avg_distance(df,index,fdf)\n",
    "    osc.whiff_blank_duration(df,index,fdf)\n",
    "    osc.mean_conc(df,index,fdf)\n",
    "    \n",
    "    osc.avg_distance(df,index_predicted,fdf_predicted)\n",
    "    osc.whiff_blank_duration(df,index_predicted,fdf_predicted)\n",
    "    \n",
    "    osc.predicted_mean_conc(df,index_predicted,fdf_predicted)\n",
    "\n",
    "np.seterr(divide='ignore')\n",
    "index = osc.get_index(test.odor,0.5)\n",
    "index_predicted = osc.get_index(test.predicted_odor,0.5)\n",
    "fdf = pd.DataFrame()\n",
    "fdf_predicted = pd.DataFrame()\n",
    "\n",
    "cal_stat(test,index,index_predicted,fdf, fdf_predicted)\n",
    "\n",
    "fdf.keys()"
   ]
  },
  {
   "cell_type": "code",
   "execution_count": 59,
   "metadata": {},
   "outputs": [
    {
     "data": {
      "image/png": "[encoded data removed]",
      "text/plain": [
       "<Figure size 800x400 with 4 Axes>"
      ]
     },
     "metadata": {},
     "output_type": "display_data"
    }
   ],
   "source": [
    "f,(ax1,ax2)=plt.subplots(1,2,figsize=(8,4))\n",
    "var = ax1.scatter(fdf.avg_dist_from_source,fdf.mean_concentration, c=fdf.mean_concentration, cmap='viridis_r' )\n",
    "ax1.set_ylabel('Whiff Concentration, a.u.')\n",
    "ax1.set_xlabel('Distance from source , m')\n",
    "ax1.set_title('Measured Odor (th>=1)')\n",
    "divider = make_axes_locatable(ax1)\n",
    "cax = divider.append_axes('right', size='5%', pad=0.08)\n",
    "cbar=f.colorbar(var, cax=cax, orientation = 'vertical')\n",
    "cbar.solids.set(alpha=1)\n",
    "cbar.set_label('$\\mu$(WC), a.u.')\n",
    "\n",
    "\n",
    "u=ax2.scatter(fdf_predicted.avg_dist_from_source,\n",
    "              fdf_predicted.mean_concentration_p, \n",
    "              c=fdf_predicted.mean_concentration_p, cmap='viridis_r' )\n",
    "# ax2.set_ylabel('Whiff Concentration, a.u.')\n",
    "ax2.set_xlabel('Distance from source , m')\n",
    "ax2.set_title('Predicted Odor')\n",
    "divider = make_axes_locatable(ax2)\n",
    "cax1 = divider.append_axes('right', size='5%', pad=0.08)\n",
    "cbar1=f.colorbar(u, cax=cax1, orientation = 'vertical')\n",
    "cbar1.solids.set(alpha=1)\n",
    "cbar1.set_label('$\\mu$(WC)_predicted, a.u.')\n",
    "\n",
    "f.tight_layout(pad=2)\n",
    "\n",
    "mpl_functions.set_fontsize(f, 12)\n",
    "# f.savefig('../assets/300_ensemble_full.jpeg', dpi=150, bbox_inches = \"tight\")"
   ]
  },
  {
   "cell_type": "markdown",
   "metadata": {},
   "source": [
    "### PINN"
   ]
  },
  {
   "cell_type": "code",
   "execution_count": 103,
   "metadata": {},
   "outputs": [],
   "source": [
    "# 1. Data Loading and Preprocessing\n",
    "def load_and_preprocess_file(file_path, features, target):\n",
    "    df = pd.read_hdf(file_path)\n",
    "    feature_tensors = torch.Tensor(df[features].values)\n",
    "    target_tensors = torch.Tensor(df[target].values)\n",
    "    return feature_tensors, target_tensors\n",
    "\n",
    "def create_sequences(feature_tensors, target_tensors, seq_length):\n",
    "    sequences = []\n",
    "    targets = []\n",
    "    for i in range(len(feature_tensors) - seq_length):\n",
    "        sequences.append(feature_tensors[i:i+seq_length])\n",
    "        targets.append(target_tensors[i+seq_length])\n",
    "    return torch.stack(sequences), torch.stack(targets)\n",
    "\n",
    "# 2. Setting up the PINN\n",
    "class PINN(nn.Module):\n",
    "    def __init__(self, input_dim, hidden_layers, output_dim):\n",
    "        super(PINN, self).__init__()\n",
    "        self.layers = [nn.Linear(input_dim, hidden_layers[0])]\n",
    "        for i in range(len(hidden_layers) - 1):\n",
    "            self.layers.append(nn.Linear(hidden_layers[i], hidden_layers[i+1]))\n",
    "            self.layers.append(nn.ReLU())\n",
    "        self.layers.append(nn.Linear(hidden_layers[-1], output_dim))\n",
    "        self.model = nn.Sequential(*self.layers)\n",
    "\n",
    "    def forward(self, x):\n",
    "        return self.model(x)\n",
    "\n",
    "# Define the physics-informed loss\n",
    "def compute_pinn_loss(model, x, true_u, nu=0.01/np.pi):\n",
    "    u_pred = model(x)\n",
    "    u_x = torch.autograd.grad(u_pred.sum(), x, create_graph=True)[0][:, 0]\n",
    "    u_xx = torch.autograd.grad(u_x.sum(), x, create_graph=True)[0][:, 0]\n",
    "    \n",
    "    f = u_x - nu * u_xx\n",
    "    loss = nn.MSELoss()(u_pred, true_u) + nn.MSELoss()(f, torch.zeros_like(f))\n",
    "    return loss\n",
    "\n",
    "# 3. Training the PINN\n",
    "def train_pinn(model, data, epochs=1000, learning_rate=1e-3):\n",
    "    optimizer = optim.Adam(model.parameters(), lr=learning_rate)\n",
    "\n",
    "    x_train, u_train = data\n",
    "\n",
    "    model.train()\n",
    "    for epoch in range(epochs):\n",
    "        optimizer.zero_grad()\n",
    "        loss = compute_pinn_loss(model, x_train, u_train)\n",
    "        loss.backward()\n",
    "        optimizer.step()\n",
    "        if (epoch+1) % 100 == 0:\n",
    "            print(f'Epoch {epoch+1}/{epochs}, Loss: {loss.item()}')\n",
    "\n",
    "\n",
    "def predict_on_new_data(pinn_model, data_path, features, target, seq_length, device):\n",
    "    # Load and preprocess the new data\n",
    "    feature_tensors, _ = load_and_preprocess_file(data_path, features, target)\n",
    "\n",
    "    # Create sequences and flatten them\n",
    "    sequences, _ = create_sequences(feature_tensors, _, seq_length)\n",
    "    sequences = sequences.view(-1, seq_length * len(features))\n",
    "\n",
    "    # Move the sequences to the specified device\n",
    "    sequences = sequences.to(device)\n",
    "\n",
    "    # Make predictions using the model\n",
    "    pinn_model.eval()  # Set the model to evaluation mode\n",
    "    with torch.no_grad():\n",
    "        predictions = pinn_model(sequences)\n",
    "    \n",
    "    # Convert the predictions to a numpy array\n",
    "    return predictions.cpu().numpy()\n",
    "\n"
   ]
  },
  {
   "cell_type": "code",
   "execution_count": 101,
   "metadata": {},
   "outputs": [
    {
     "name": "stderr",
     "output_type": "stream",
     "text": [
      "/home/beast/.local/lib/python3.10/site-packages/torch/nn/modules/loss.py:530: UserWarning: Using a target size (torch.Size([1395, 1, 1])) that is different to the input size (torch.Size([1395, 1])). This will likely lead to incorrect results due to broadcasting. Please ensure they have the same size.\n",
      "  return F.mse_loss(input, target, reduction=self.reduction)\n"
     ]
    },
    {
     "name": "stdout",
     "output_type": "stream",
     "text": [
      "Epoch 0, Loss: 0.22726038098335266\n",
      "Epoch 100, Loss: 0.22704370319843292\n"
     ]
    },
    {
     "name": "stderr",
     "output_type": "stream",
     "text": [
      "/home/beast/.local/lib/python3.10/site-packages/torch/nn/modules/loss.py:530: UserWarning: Using a target size (torch.Size([995, 1, 1])) that is different to the input size (torch.Size([995, 1])). This will likely lead to incorrect results due to broadcasting. Please ensure they have the same size.\n",
      "  return F.mse_loss(input, target, reduction=self.reduction)\n"
     ]
    },
    {
     "name": "stdout",
     "output_type": "stream",
     "text": [
      "Epoch 0, Loss: 0.19779856503009796\n",
      "Epoch 100, Loss: 0.19778724014759064\n"
     ]
    },
    {
     "name": "stderr",
     "output_type": "stream",
     "text": [
      "/home/beast/.local/lib/python3.10/site-packages/torch/nn/modules/loss.py:530: UserWarning: Using a target size (torch.Size([1045, 1, 1])) that is different to the input size (torch.Size([1045, 1])). This will likely lead to incorrect results due to broadcasting. Please ensure they have the same size.\n",
      "  return F.mse_loss(input, target, reduction=self.reduction)\n"
     ]
    },
    {
     "name": "stdout",
     "output_type": "stream",
     "text": [
      "Epoch 0, Loss: 0.6622601747512817\n",
      "Epoch 100, Loss: 0.659583568572998\n"
     ]
    },
    {
     "name": "stderr",
     "output_type": "stream",
     "text": [
      "/home/beast/.local/lib/python3.10/site-packages/torch/nn/modules/loss.py:530: UserWarning: Using a target size (torch.Size([1345, 1, 1])) that is different to the input size (torch.Size([1345, 1])). This will likely lead to incorrect results due to broadcasting. Please ensure they have the same size.\n",
      "  return F.mse_loss(input, target, reduction=self.reduction)\n"
     ]
    },
    {
     "name": "stdout",
     "output_type": "stream",
     "text": [
      "Epoch 0, Loss: 0.4421670436859131\n",
      "Epoch 100, Loss: 0.4418855309486389\n"
     ]
    },
    {
     "name": "stderr",
     "output_type": "stream",
     "text": [
      "/home/beast/.local/lib/python3.10/site-packages/torch/nn/modules/loss.py:530: UserWarning: Using a target size (torch.Size([1745, 1, 1])) that is different to the input size (torch.Size([1745, 1])). This will likely lead to incorrect results due to broadcasting. Please ensure they have the same size.\n",
      "  return F.mse_loss(input, target, reduction=self.reduction)\n"
     ]
    },
    {
     "name": "stdout",
     "output_type": "stream",
     "text": [
      "Epoch 0, Loss: 0.3106745779514313\n",
      "Epoch 100, Loss: 0.3093435764312744\n"
     ]
    },
    {
     "name": "stderr",
     "output_type": "stream",
     "text": [
      "/home/beast/.local/lib/python3.10/site-packages/torch/nn/modules/loss.py:530: UserWarning: Using a target size (torch.Size([1395, 1, 1])) that is different to the input size (torch.Size([1395, 1])). This will likely lead to incorrect results due to broadcasting. Please ensure they have the same size.\n",
      "  return F.mse_loss(input, target, reduction=self.reduction)\n"
     ]
    },
    {
     "name": "stdout",
     "output_type": "stream",
     "text": [
      "Epoch 0, Loss: 0.215179443359375\n",
      "Epoch 100, Loss: 0.21514488756656647\n"
     ]
    },
    {
     "name": "stderr",
     "output_type": "stream",
     "text": [
      "/home/beast/.local/lib/python3.10/site-packages/torch/nn/modules/loss.py:530: UserWarning: Using a target size (torch.Size([1545, 1, 1])) that is different to the input size (torch.Size([1545, 1])). This will likely lead to incorrect results due to broadcasting. Please ensure they have the same size.\n",
      "  return F.mse_loss(input, target, reduction=self.reduction)\n"
     ]
    },
    {
     "name": "stdout",
     "output_type": "stream",
     "text": [
      "Epoch 0, Loss: 0.2219039350748062\n",
      "Epoch 100, Loss: 0.22171306610107422\n"
     ]
    },
    {
     "name": "stderr",
     "output_type": "stream",
     "text": [
      "/home/beast/.local/lib/python3.10/site-packages/torch/nn/modules/loss.py:530: UserWarning: Using a target size (torch.Size([1595, 1, 1])) that is different to the input size (torch.Size([1595, 1])). This will likely lead to incorrect results due to broadcasting. Please ensure they have the same size.\n",
      "  return F.mse_loss(input, target, reduction=self.reduction)\n"
     ]
    },
    {
     "name": "stdout",
     "output_type": "stream",
     "text": [
      "Epoch 0, Loss: 0.39346346259117126\n",
      "Epoch 100, Loss: 0.39177584648132324\n"
     ]
    },
    {
     "name": "stderr",
     "output_type": "stream",
     "text": [
      "/home/beast/.local/lib/python3.10/site-packages/torch/nn/modules/loss.py:530: UserWarning: Using a target size (torch.Size([1145, 1, 1])) that is different to the input size (torch.Size([1145, 1])). This will likely lead to incorrect results due to broadcasting. Please ensure they have the same size.\n",
      "  return F.mse_loss(input, target, reduction=self.reduction)\n"
     ]
    },
    {
     "name": "stdout",
     "output_type": "stream",
     "text": [
      "Epoch 0, Loss: 0.4295603632926941\n",
      "Epoch 100, Loss: 0.42955195903778076\n"
     ]
    },
    {
     "name": "stderr",
     "output_type": "stream",
     "text": [
      "/home/beast/.local/lib/python3.10/site-packages/torch/nn/modules/loss.py:530: UserWarning: Using a target size (torch.Size([945, 1, 1])) that is different to the input size (torch.Size([945, 1])). This will likely lead to incorrect results due to broadcasting. Please ensure they have the same size.\n",
      "  return F.mse_loss(input, target, reduction=self.reduction)\n"
     ]
    },
    {
     "name": "stdout",
     "output_type": "stream",
     "text": [
      "Epoch 0, Loss: 0.44058728218078613\n",
      "Epoch 100, Loss: 0.44057199358940125\n"
     ]
    },
    {
     "name": "stderr",
     "output_type": "stream",
     "text": [
      "/home/beast/.local/lib/python3.10/site-packages/torch/nn/modules/loss.py:530: UserWarning: Using a target size (torch.Size([895, 1, 1])) that is different to the input size (torch.Size([895, 1])). This will likely lead to incorrect results due to broadcasting. Please ensure they have the same size.\n",
      "  return F.mse_loss(input, target, reduction=self.reduction)\n"
     ]
    },
    {
     "name": "stdout",
     "output_type": "stream",
     "text": [
      "Epoch 0, Loss: 0.40915894508361816\n",
      "Epoch 100, Loss: 0.4091077148914337\n"
     ]
    },
    {
     "name": "stderr",
     "output_type": "stream",
     "text": [
      "/home/beast/.local/lib/python3.10/site-packages/torch/nn/modules/loss.py:530: UserWarning: Using a target size (torch.Size([1595, 1, 1])) that is different to the input size (torch.Size([1595, 1])). This will likely lead to incorrect results due to broadcasting. Please ensure they have the same size.\n",
      "  return F.mse_loss(input, target, reduction=self.reduction)\n"
     ]
    },
    {
     "name": "stdout",
     "output_type": "stream",
     "text": [
      "Epoch 0, Loss: 0.23633332550525665\n",
      "Epoch 100, Loss: 0.23535597324371338\n"
     ]
    },
    {
     "name": "stderr",
     "output_type": "stream",
     "text": [
      "/home/beast/.local/lib/python3.10/site-packages/torch/nn/modules/loss.py:530: UserWarning: Using a target size (torch.Size([1595, 1, 1])) that is different to the input size (torch.Size([1595, 1])). This will likely lead to incorrect results due to broadcasting. Please ensure they have the same size.\n",
      "  return F.mse_loss(input, target, reduction=self.reduction)\n"
     ]
    },
    {
     "name": "stdout",
     "output_type": "stream",
     "text": [
      "Epoch 0, Loss: 0.38387539982795715\n",
      "Epoch 100, Loss: 0.3835563659667969\n"
     ]
    },
    {
     "name": "stderr",
     "output_type": "stream",
     "text": [
      "/home/beast/.local/lib/python3.10/site-packages/torch/nn/modules/loss.py:530: UserWarning: Using a target size (torch.Size([1445, 1, 1])) that is different to the input size (torch.Size([1445, 1])). This will likely lead to incorrect results due to broadcasting. Please ensure they have the same size.\n",
      "  return F.mse_loss(input, target, reduction=self.reduction)\n"
     ]
    },
    {
     "name": "stdout",
     "output_type": "stream",
     "text": [
      "Epoch 0, Loss: 0.2026616930961609\n",
      "Epoch 100, Loss: 0.20184960961341858\n"
     ]
    },
    {
     "name": "stderr",
     "output_type": "stream",
     "text": [
      "/home/beast/.local/lib/python3.10/site-packages/torch/nn/modules/loss.py:530: UserWarning: Using a target size (torch.Size([1545, 1, 1])) that is different to the input size (torch.Size([1545, 1])). This will likely lead to incorrect results due to broadcasting. Please ensure they have the same size.\n",
      "  return F.mse_loss(input, target, reduction=self.reduction)\n"
     ]
    },
    {
     "name": "stdout",
     "output_type": "stream",
     "text": [
      "Epoch 0, Loss: 0.25805163383483887\n",
      "Epoch 100, Loss: 0.2578383684158325\n"
     ]
    },
    {
     "name": "stderr",
     "output_type": "stream",
     "text": [
      "/home/beast/.local/lib/python3.10/site-packages/torch/nn/modules/loss.py:530: UserWarning: Using a target size (torch.Size([1295, 1, 1])) that is different to the input size (torch.Size([1295, 1])). This will likely lead to incorrect results due to broadcasting. Please ensure they have the same size.\n",
      "  return F.mse_loss(input, target, reduction=self.reduction)\n"
     ]
    },
    {
     "name": "stdout",
     "output_type": "stream",
     "text": [
      "Epoch 0, Loss: 0.5958639979362488\n",
      "Epoch 100, Loss: 0.5935387015342712\n"
     ]
    },
    {
     "name": "stderr",
     "output_type": "stream",
     "text": [
      "/home/beast/.local/lib/python3.10/site-packages/torch/nn/modules/loss.py:530: UserWarning: Using a target size (torch.Size([1545, 1, 1])) that is different to the input size (torch.Size([1545, 1])). This will likely lead to incorrect results due to broadcasting. Please ensure they have the same size.\n",
      "  return F.mse_loss(input, target, reduction=self.reduction)\n"
     ]
    },
    {
     "name": "stdout",
     "output_type": "stream",
     "text": [
      "Epoch 0, Loss: 0.22366714477539062\n",
      "Epoch 100, Loss: 0.22080746293067932\n"
     ]
    },
    {
     "name": "stderr",
     "output_type": "stream",
     "text": [
      "/home/beast/.local/lib/python3.10/site-packages/torch/nn/modules/loss.py:530: UserWarning: Using a target size (torch.Size([1745, 1, 1])) that is different to the input size (torch.Size([1745, 1])). This will likely lead to incorrect results due to broadcasting. Please ensure they have the same size.\n",
      "  return F.mse_loss(input, target, reduction=self.reduction)\n"
     ]
    },
    {
     "name": "stdout",
     "output_type": "stream",
     "text": [
      "Epoch 0, Loss: 0.1355820596218109\n",
      "Epoch 100, Loss: 0.13530631363391876\n"
     ]
    },
    {
     "name": "stderr",
     "output_type": "stream",
     "text": [
      "/home/beast/.local/lib/python3.10/site-packages/torch/nn/modules/loss.py:530: UserWarning: Using a target size (torch.Size([895, 1, 1])) that is different to the input size (torch.Size([895, 1])). This will likely lead to incorrect results due to broadcasting. Please ensure they have the same size.\n",
      "  return F.mse_loss(input, target, reduction=self.reduction)\n"
     ]
    },
    {
     "name": "stdout",
     "output_type": "stream",
     "text": [
      "Epoch 0, Loss: 0.029117044061422348\n",
      "Epoch 100, Loss: 0.02862958423793316\n"
     ]
    },
    {
     "name": "stderr",
     "output_type": "stream",
     "text": [
      "/home/beast/.local/lib/python3.10/site-packages/torch/nn/modules/loss.py:530: UserWarning: Using a target size (torch.Size([945, 1, 1])) that is different to the input size (torch.Size([945, 1])). This will likely lead to incorrect results due to broadcasting. Please ensure they have the same size.\n",
      "  return F.mse_loss(input, target, reduction=self.reduction)\n"
     ]
    },
    {
     "name": "stdout",
     "output_type": "stream",
     "text": [
      "Epoch 0, Loss: 0.1585872918367386\n",
      "Epoch 100, Loss: 0.15838879346847534\n"
     ]
    },
    {
     "name": "stderr",
     "output_type": "stream",
     "text": [
      "/home/beast/.local/lib/python3.10/site-packages/torch/nn/modules/loss.py:530: UserWarning: Using a target size (torch.Size([945, 1, 1])) that is different to the input size (torch.Size([945, 1])). This will likely lead to incorrect results due to broadcasting. Please ensure they have the same size.\n",
      "  return F.mse_loss(input, target, reduction=self.reduction)\n"
     ]
    },
    {
     "name": "stdout",
     "output_type": "stream",
     "text": [
      "Epoch 0, Loss: 0.5160913467407227\n",
      "Epoch 100, Loss: 0.5137911438941956\n"
     ]
    },
    {
     "name": "stderr",
     "output_type": "stream",
     "text": [
      "/home/beast/.local/lib/python3.10/site-packages/torch/nn/modules/loss.py:530: UserWarning: Using a target size (torch.Size([1145, 1, 1])) that is different to the input size (torch.Size([1145, 1])). This will likely lead to incorrect results due to broadcasting. Please ensure they have the same size.\n",
      "  return F.mse_loss(input, target, reduction=self.reduction)\n"
     ]
    },
    {
     "name": "stdout",
     "output_type": "stream",
     "text": [
      "Epoch 0, Loss: 0.10378563404083252\n",
      "Epoch 100, Loss: 0.10212655365467072\n"
     ]
    },
    {
     "name": "stderr",
     "output_type": "stream",
     "text": [
      "/home/beast/.local/lib/python3.10/site-packages/torch/nn/modules/loss.py:530: UserWarning: Using a target size (torch.Size([1495, 1, 1])) that is different to the input size (torch.Size([1495, 1])). This will likely lead to incorrect results due to broadcasting. Please ensure they have the same size.\n",
      "  return F.mse_loss(input, target, reduction=self.reduction)\n"
     ]
    },
    {
     "name": "stdout",
     "output_type": "stream",
     "text": [
      "Epoch 0, Loss: 0.27908849716186523\n",
      "Epoch 100, Loss: 0.2785446047782898\n"
     ]
    },
    {
     "name": "stderr",
     "output_type": "stream",
     "text": [
      "/home/beast/.local/lib/python3.10/site-packages/torch/nn/modules/loss.py:530: UserWarning: Using a target size (torch.Size([1145, 1, 1])) that is different to the input size (torch.Size([1145, 1])). This will likely lead to incorrect results due to broadcasting. Please ensure they have the same size.\n",
      "  return F.mse_loss(input, target, reduction=self.reduction)\n"
     ]
    },
    {
     "name": "stdout",
     "output_type": "stream",
     "text": [
      "Epoch 0, Loss: 0.20532923936843872\n",
      "Epoch 100, Loss: 0.20523902773857117\n"
     ]
    },
    {
     "name": "stderr",
     "output_type": "stream",
     "text": [
      "/home/beast/.local/lib/python3.10/site-packages/torch/nn/modules/loss.py:530: UserWarning: Using a target size (torch.Size([1845, 1, 1])) that is different to the input size (torch.Size([1845, 1])). This will likely lead to incorrect results due to broadcasting. Please ensure they have the same size.\n",
      "  return F.mse_loss(input, target, reduction=self.reduction)\n"
     ]
    },
    {
     "name": "stdout",
     "output_type": "stream",
     "text": [
      "Epoch 0, Loss: 0.33762040734291077\n",
      "Epoch 100, Loss: 0.3376108705997467\n"
     ]
    },
    {
     "name": "stderr",
     "output_type": "stream",
     "text": [
      "/home/beast/.local/lib/python3.10/site-packages/torch/nn/modules/loss.py:530: UserWarning: Using a target size (torch.Size([1845, 1, 1])) that is different to the input size (torch.Size([1845, 1])). This will likely lead to incorrect results due to broadcasting. Please ensure they have the same size.\n",
      "  return F.mse_loss(input, target, reduction=self.reduction)\n"
     ]
    },
    {
     "name": "stdout",
     "output_type": "stream",
     "text": [
      "Epoch 0, Loss: 0.1408960074186325\n",
      "Epoch 100, Loss: 0.13896514475345612\n"
     ]
    },
    {
     "name": "stderr",
     "output_type": "stream",
     "text": [
      "/home/beast/.local/lib/python3.10/site-packages/torch/nn/modules/loss.py:530: UserWarning: Using a target size (torch.Size([995, 1, 1])) that is different to the input size (torch.Size([995, 1])). This will likely lead to incorrect results due to broadcasting. Please ensure they have the same size.\n",
      "  return F.mse_loss(input, target, reduction=self.reduction)\n"
     ]
    },
    {
     "name": "stdout",
     "output_type": "stream",
     "text": [
      "Epoch 0, Loss: 0.4753482937812805\n",
      "Epoch 100, Loss: 0.4729776978492737\n"
     ]
    },
    {
     "name": "stderr",
     "output_type": "stream",
     "text": [
      "/home/beast/.local/lib/python3.10/site-packages/torch/nn/modules/loss.py:530: UserWarning: Using a target size (torch.Size([1745, 1, 1])) that is different to the input size (torch.Size([1745, 1])). This will likely lead to incorrect results due to broadcasting. Please ensure they have the same size.\n",
      "  return F.mse_loss(input, target, reduction=self.reduction)\n"
     ]
    },
    {
     "name": "stdout",
     "output_type": "stream",
     "text": [
      "Epoch 0, Loss: 0.21726372838020325\n",
      "Epoch 100, Loss: 0.21597830951213837\n"
     ]
    },
    {
     "name": "stderr",
     "output_type": "stream",
     "text": [
      "/home/beast/.local/lib/python3.10/site-packages/torch/nn/modules/loss.py:530: UserWarning: Using a target size (torch.Size([1095, 1, 1])) that is different to the input size (torch.Size([1095, 1])). This will likely lead to incorrect results due to broadcasting. Please ensure they have the same size.\n",
      "  return F.mse_loss(input, target, reduction=self.reduction)\n"
     ]
    },
    {
     "name": "stdout",
     "output_type": "stream",
     "text": [
      "Epoch 0, Loss: 0.2125830352306366\n",
      "Epoch 100, Loss: 0.2125759720802307\n"
     ]
    },
    {
     "name": "stderr",
     "output_type": "stream",
     "text": [
      "/home/beast/.local/lib/python3.10/site-packages/torch/nn/modules/loss.py:530: UserWarning: Using a target size (torch.Size([995, 1, 1])) that is different to the input size (torch.Size([995, 1])). This will likely lead to incorrect results due to broadcasting. Please ensure they have the same size.\n",
      "  return F.mse_loss(input, target, reduction=self.reduction)\n"
     ]
    },
    {
     "name": "stdout",
     "output_type": "stream",
     "text": [
      "Epoch 0, Loss: 0.20582352578639984\n",
      "Epoch 100, Loss: 0.20562516152858734\n"
     ]
    },
    {
     "name": "stderr",
     "output_type": "stream",
     "text": [
      "/home/beast/.local/lib/python3.10/site-packages/torch/nn/modules/loss.py:530: UserWarning: Using a target size (torch.Size([1295, 1, 1])) that is different to the input size (torch.Size([1295, 1])). This will likely lead to incorrect results due to broadcasting. Please ensure they have the same size.\n",
      "  return F.mse_loss(input, target, reduction=self.reduction)\n"
     ]
    },
    {
     "name": "stdout",
     "output_type": "stream",
     "text": [
      "Epoch 0, Loss: 0.24726828932762146\n",
      "Epoch 100, Loss: 0.2467583566904068\n"
     ]
    },
    {
     "name": "stderr",
     "output_type": "stream",
     "text": [
      "/home/beast/.local/lib/python3.10/site-packages/torch/nn/modules/loss.py:530: UserWarning: Using a target size (torch.Size([1245, 1, 1])) that is different to the input size (torch.Size([1245, 1])). This will likely lead to incorrect results due to broadcasting. Please ensure they have the same size.\n",
      "  return F.mse_loss(input, target, reduction=self.reduction)\n"
     ]
    },
    {
     "name": "stdout",
     "output_type": "stream",
     "text": [
      "Epoch 0, Loss: 0.33782169222831726\n",
      "Epoch 100, Loss: 0.3365512490272522\n"
     ]
    },
    {
     "name": "stderr",
     "output_type": "stream",
     "text": [
      "/home/beast/.local/lib/python3.10/site-packages/torch/nn/modules/loss.py:530: UserWarning: Using a target size (torch.Size([1795, 1, 1])) that is different to the input size (torch.Size([1795, 1])). This will likely lead to incorrect results due to broadcasting. Please ensure they have the same size.\n",
      "  return F.mse_loss(input, target, reduction=self.reduction)\n"
     ]
    },
    {
     "name": "stdout",
     "output_type": "stream",
     "text": [
      "Epoch 0, Loss: 0.5884122252464294\n",
      "Epoch 100, Loss: 0.5875661373138428\n"
     ]
    },
    {
     "name": "stderr",
     "output_type": "stream",
     "text": [
      "/home/beast/.local/lib/python3.10/site-packages/torch/nn/modules/loss.py:530: UserWarning: Using a target size (torch.Size([1095, 1, 1])) that is different to the input size (torch.Size([1095, 1])). This will likely lead to incorrect results due to broadcasting. Please ensure they have the same size.\n",
      "  return F.mse_loss(input, target, reduction=self.reduction)\n"
     ]
    },
    {
     "name": "stdout",
     "output_type": "stream",
     "text": [
      "Epoch 0, Loss: 0.17329807579517365\n",
      "Epoch 100, Loss: 0.16990770399570465\n"
     ]
    },
    {
     "name": "stderr",
     "output_type": "stream",
     "text": [
      "/home/beast/.local/lib/python3.10/site-packages/torch/nn/modules/loss.py:530: UserWarning: Using a target size (torch.Size([945, 1, 1])) that is different to the input size (torch.Size([945, 1])). This will likely lead to incorrect results due to broadcasting. Please ensure they have the same size.\n",
      "  return F.mse_loss(input, target, reduction=self.reduction)\n"
     ]
    },
    {
     "name": "stdout",
     "output_type": "stream",
     "text": [
      "Epoch 0, Loss: 0.3843916952610016\n",
      "Epoch 100, Loss: 0.3833634853363037\n"
     ]
    },
    {
     "name": "stderr",
     "output_type": "stream",
     "text": [
      "/home/beast/.local/lib/python3.10/site-packages/torch/nn/modules/loss.py:530: UserWarning: Using a target size (torch.Size([1145, 1, 1])) that is different to the input size (torch.Size([1145, 1])). This will likely lead to incorrect results due to broadcasting. Please ensure they have the same size.\n",
      "  return F.mse_loss(input, target, reduction=self.reduction)\n"
     ]
    },
    {
     "name": "stdout",
     "output_type": "stream",
     "text": [
      "Epoch 0, Loss: 0.19593104720115662\n",
      "Epoch 100, Loss: 0.19555288553237915\n"
     ]
    },
    {
     "name": "stderr",
     "output_type": "stream",
     "text": [
      "/home/beast/.local/lib/python3.10/site-packages/torch/nn/modules/loss.py:530: UserWarning: Using a target size (torch.Size([1045, 1, 1])) that is different to the input size (torch.Size([1045, 1])). This will likely lead to incorrect results due to broadcasting. Please ensure they have the same size.\n",
      "  return F.mse_loss(input, target, reduction=self.reduction)\n"
     ]
    },
    {
     "name": "stdout",
     "output_type": "stream",
     "text": [
      "Epoch 0, Loss: 0.12817275524139404\n",
      "Epoch 100, Loss: 0.1274678260087967\n"
     ]
    },
    {
     "name": "stderr",
     "output_type": "stream",
     "text": [
      "/home/beast/.local/lib/python3.10/site-packages/torch/nn/modules/loss.py:530: UserWarning: Using a target size (torch.Size([1495, 1, 1])) that is different to the input size (torch.Size([1495, 1])). This will likely lead to incorrect results due to broadcasting. Please ensure they have the same size.\n",
      "  return F.mse_loss(input, target, reduction=self.reduction)\n"
     ]
    },
    {
     "name": "stdout",
     "output_type": "stream",
     "text": [
      "Epoch 0, Loss: 0.2491130381822586\n",
      "Epoch 100, Loss: 0.24802552163600922\n"
     ]
    },
    {
     "name": "stderr",
     "output_type": "stream",
     "text": [
      "/home/beast/.local/lib/python3.10/site-packages/torch/nn/modules/loss.py:530: UserWarning: Using a target size (torch.Size([1595, 1, 1])) that is different to the input size (torch.Size([1595, 1])). This will likely lead to incorrect results due to broadcasting. Please ensure they have the same size.\n",
      "  return F.mse_loss(input, target, reduction=self.reduction)\n"
     ]
    },
    {
     "name": "stdout",
     "output_type": "stream",
     "text": [
      "Epoch 0, Loss: 0.06589946150779724\n",
      "Epoch 100, Loss: 0.06395228952169418\n"
     ]
    },
    {
     "name": "stderr",
     "output_type": "stream",
     "text": [
      "/home/beast/.local/lib/python3.10/site-packages/torch/nn/modules/loss.py:530: UserWarning: Using a target size (torch.Size([1795, 1, 1])) that is different to the input size (torch.Size([1795, 1])). This will likely lead to incorrect results due to broadcasting. Please ensure they have the same size.\n",
      "  return F.mse_loss(input, target, reduction=self.reduction)\n"
     ]
    },
    {
     "name": "stdout",
     "output_type": "stream",
     "text": [
      "Epoch 0, Loss: 0.21656575798988342\n",
      "Epoch 100, Loss: 0.21519936621189117\n"
     ]
    },
    {
     "name": "stderr",
     "output_type": "stream",
     "text": [
      "/home/beast/.local/lib/python3.10/site-packages/torch/nn/modules/loss.py:530: UserWarning: Using a target size (torch.Size([1795, 1, 1])) that is different to the input size (torch.Size([1795, 1])). This will likely lead to incorrect results due to broadcasting. Please ensure they have the same size.\n",
      "  return F.mse_loss(input, target, reduction=self.reduction)\n"
     ]
    },
    {
     "name": "stdout",
     "output_type": "stream",
     "text": [
      "Epoch 0, Loss: 0.11996608972549438\n",
      "Epoch 100, Loss: 0.11949111521244049\n"
     ]
    },
    {
     "name": "stderr",
     "output_type": "stream",
     "text": [
      "/home/beast/.local/lib/python3.10/site-packages/torch/nn/modules/loss.py:530: UserWarning: Using a target size (torch.Size([1845, 1, 1])) that is different to the input size (torch.Size([1845, 1])). This will likely lead to incorrect results due to broadcasting. Please ensure they have the same size.\n",
      "  return F.mse_loss(input, target, reduction=self.reduction)\n"
     ]
    },
    {
     "name": "stdout",
     "output_type": "stream",
     "text": [
      "Epoch 0, Loss: 0.14877541363239288\n",
      "Epoch 100, Loss: 0.1487753987312317\n"
     ]
    },
    {
     "name": "stderr",
     "output_type": "stream",
     "text": [
      "/home/beast/.local/lib/python3.10/site-packages/torch/nn/modules/loss.py:530: UserWarning: Using a target size (torch.Size([1795, 1, 1])) that is different to the input size (torch.Size([1795, 1])). This will likely lead to incorrect results due to broadcasting. Please ensure they have the same size.\n",
      "  return F.mse_loss(input, target, reduction=self.reduction)\n"
     ]
    },
    {
     "name": "stdout",
     "output_type": "stream",
     "text": [
      "Epoch 0, Loss: 0.41412442922592163\n",
      "Epoch 100, Loss: 0.412038117647171\n"
     ]
    },
    {
     "name": "stderr",
     "output_type": "stream",
     "text": [
      "/home/beast/.local/lib/python3.10/site-packages/torch/nn/modules/loss.py:530: UserWarning: Using a target size (torch.Size([1795, 1, 1])) that is different to the input size (torch.Size([1795, 1])). This will likely lead to incorrect results due to broadcasting. Please ensure they have the same size.\n",
      "  return F.mse_loss(input, target, reduction=self.reduction)\n"
     ]
    },
    {
     "name": "stdout",
     "output_type": "stream",
     "text": [
      "Epoch 0, Loss: 0.1131565198302269\n",
      "Epoch 100, Loss: 0.11117527633905411\n"
     ]
    },
    {
     "name": "stderr",
     "output_type": "stream",
     "text": [
      "/home/beast/.local/lib/python3.10/site-packages/torch/nn/modules/loss.py:530: UserWarning: Using a target size (torch.Size([895, 1, 1])) that is different to the input size (torch.Size([895, 1])). This will likely lead to incorrect results due to broadcasting. Please ensure they have the same size.\n",
      "  return F.mse_loss(input, target, reduction=self.reduction)\n"
     ]
    },
    {
     "name": "stdout",
     "output_type": "stream",
     "text": [
      "Epoch 0, Loss: 0.16109366714954376\n",
      "Epoch 100, Loss: 0.16071096062660217\n"
     ]
    },
    {
     "name": "stderr",
     "output_type": "stream",
     "text": [
      "/home/beast/.local/lib/python3.10/site-packages/torch/nn/modules/loss.py:530: UserWarning: Using a target size (torch.Size([1445, 1, 1])) that is different to the input size (torch.Size([1445, 1])). This will likely lead to incorrect results due to broadcasting. Please ensure they have the same size.\n",
      "  return F.mse_loss(input, target, reduction=self.reduction)\n"
     ]
    },
    {
     "name": "stdout",
     "output_type": "stream",
     "text": [
      "Epoch 0, Loss: 0.15307199954986572\n",
      "Epoch 100, Loss: 0.15291981399059296\n"
     ]
    },
    {
     "name": "stderr",
     "output_type": "stream",
     "text": [
      "/home/beast/.local/lib/python3.10/site-packages/torch/nn/modules/loss.py:530: UserWarning: Using a target size (torch.Size([1245, 1, 1])) that is different to the input size (torch.Size([1245, 1])). This will likely lead to incorrect results due to broadcasting. Please ensure they have the same size.\n",
      "  return F.mse_loss(input, target, reduction=self.reduction)\n"
     ]
    },
    {
     "name": "stdout",
     "output_type": "stream",
     "text": [
      "Epoch 0, Loss: 0.36155781149864197\n",
      "Epoch 100, Loss: 0.36062344908714294\n"
     ]
    },
    {
     "name": "stderr",
     "output_type": "stream",
     "text": [
      "/home/beast/.local/lib/python3.10/site-packages/torch/nn/modules/loss.py:530: UserWarning: Using a target size (torch.Size([1795, 1, 1])) that is different to the input size (torch.Size([1795, 1])). This will likely lead to incorrect results due to broadcasting. Please ensure they have the same size.\n",
      "  return F.mse_loss(input, target, reduction=self.reduction)\n"
     ]
    },
    {
     "name": "stdout",
     "output_type": "stream",
     "text": [
      "Epoch 0, Loss: 0.1915857195854187\n",
      "Epoch 100, Loss: 0.1913071870803833\n"
     ]
    },
    {
     "name": "stderr",
     "output_type": "stream",
     "text": [
      "/home/beast/.local/lib/python3.10/site-packages/torch/nn/modules/loss.py:530: UserWarning: Using a target size (torch.Size([1445, 1, 1])) that is different to the input size (torch.Size([1445, 1])). This will likely lead to incorrect results due to broadcasting. Please ensure they have the same size.\n",
      "  return F.mse_loss(input, target, reduction=self.reduction)\n"
     ]
    },
    {
     "name": "stdout",
     "output_type": "stream",
     "text": [
      "Epoch 0, Loss: 0.3836662769317627\n",
      "Epoch 100, Loss: 0.3834448754787445\n"
     ]
    },
    {
     "name": "stderr",
     "output_type": "stream",
     "text": [
      "/home/beast/.local/lib/python3.10/site-packages/torch/nn/modules/loss.py:530: UserWarning: Using a target size (torch.Size([1145, 1, 1])) that is different to the input size (torch.Size([1145, 1])). This will likely lead to incorrect results due to broadcasting. Please ensure they have the same size.\n",
      "  return F.mse_loss(input, target, reduction=self.reduction)\n"
     ]
    },
    {
     "name": "stdout",
     "output_type": "stream",
     "text": [
      "Epoch 0, Loss: 0.2947481870651245\n",
      "Epoch 100, Loss: 0.2946200370788574\n"
     ]
    }
   ],
   "source": [
    "features = ['distance_along_streakline', 'nearest_from_streakline']\n",
    "target = ['odor']\n",
    "seq_length = 5\n",
    "\n",
    "# Define your PINN model\n",
    "input_dim = seq_length * len(features)  # Input dimensionality is sequence length times number of features\n",
    "hidden_layers = [128, 128, 128]\n",
    "output_dim = 1\n",
    "pinn_model = PINN(input_dim, hidden_layers, output_dim).to(device)\n",
    "\n",
    "# Directory path\n",
    "filepath = \"/home/beast/An/data/train_new_axis/\"\n",
    "\n",
    "# Loop over all files in the directory\n",
    "for file in os.listdir(filepath):\n",
    "    # Load and preprocess data\n",
    "    file_path = os.path.join(filepath, file)\n",
    "    feature_tensors, target_tensors = load_and_preprocess_file(file_path, features, target)\n",
    "    sequences, targets = create_sequences(feature_tensors, target_tensors, seq_length)\n",
    "    \n",
    "    # Flatten sequences for PINN input\n",
    "    sequences = sequences.view(-1, seq_length * len(features)).to(device)\n",
    "    targets = targets.to(device)\n",
    "\n",
    "    # Train the PINN on this file's data\n",
    "    train_pinn(pinn_model, (sequences, targets), epochs=200)\n"
   ]
  },
  {
   "cell_type": "code",
   "execution_count": 105,
   "metadata": {},
   "outputs": [],
   "source": [
    "# Now, use the function to predict on new data:\n",
    "new_data_path = \"/home/beast/An/data/train_new_axis/diag40.h5\"\n",
    "predictions = predict_on_new_data(pinn_model, new_data_path, features, target, seq_length, device)\n",
    "# Append predictions to the original dataframe\n",
    "test = pd.read_hdf(new_data_path)\n",
    "test['predicted_odor'] = np.pad(predictions.flatten(), (0, len(test) - len(predictions)), mode='constant')\n"
   ]
  },
  {
   "cell_type": "code",
   "execution_count": 106,
   "metadata": {},
   "outputs": [
    {
     "data": {
      "text/plain": [
       "Text(0.5, 1.0, '300ep/timeseries')"
      ]
     },
     "execution_count": 106,
     "metadata": {},
     "output_type": "execute_result"
    },
    {
     "data": {
      "image/png": "[encoded data removed]",
      "text/plain": [
       "<Figure size 500x400 with 1 Axes>"
      ]
     },
     "metadata": {},
     "output_type": "display_data"
    }
   ],
   "source": [
    "f,ax=plt.subplots(1,1,figsize=(5,4))\n",
    "ax.plot(test.odor, label='unscaled odor, a.u.')\n",
    "ax.plot(test.predicted_odor, alpha=0.8,label='predicted odor')\n",
    "ax.set_ylabel('odor, a.u.')\n",
    "ax.set_xlabel('samples')\n",
    "ax.legend()\n",
    "ax.set_title('300ep/timeseries')\n",
    "# mpl_functions.set_fontsize(f, 15)\n",
    "# f.savefig('../assets/300_ensemble_full.jpeg', dpi=150, bbox_inches = \"tight\")"
   ]
  },
  {
   "cell_type": "code",
   "execution_count": null,
   "metadata": {},
   "outputs": [],
   "source": []
  }
 ],
 "metadata": {
  "kernelspec": {
   "display_name": "an-vscode",
   "language": "python",
   "name": "pyan"
  },
  "language_info": {
   "codemirror_mode": {
    "name": "ipython",
    "version": 3
   },
   "file_extension": ".py",
   "mimetype": "text/x-python",
   "name": "python",
   "nbconvert_exporter": "python",
   "pygments_lexer": "ipython3",
   "version": "3.10.12"
  },
  "orig_nbformat": 4
 },
 "nbformat": 4,
 "nbformat_minor": 2
}
